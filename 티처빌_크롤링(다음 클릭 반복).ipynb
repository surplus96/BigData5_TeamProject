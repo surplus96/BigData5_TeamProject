{
 "cells": [
  {
   "cell_type": "code",
   "execution_count": null,
   "id": "b88b9e66",
   "metadata": {},
   "outputs": [],
   "source": [
    "import requests\n",
    "from bs4 import BeautifulSoup\n",
    "import pandas as pd\n",
    "import time\n",
    "from selenium import webdriver\n",
    "from selenium.webdriver.chrome.service import Service\n",
    "from selenium.webdriver.chrome.options import Options as ChromeOptions\n",
    "from selenium.webdriver.support.ui import WebDriverWait\n",
    "from selenium.webdriver.common.by import By\n",
    "from selenium.webdriver.support import expected_conditions as EC"
   ]
  },
  {
   "cell_type": "code",
   "execution_count": null,
   "id": "a26de946",
   "metadata": {},
   "outputs": [],
   "source": [
    "options = webdriver.ChromeOptions()\n",
    "options.add_argument('window-size=1920x1080') #크롬드라이버 창크기\n",
    "options.add_argument(\"headless\") #창 숨기기\n",
    "options.add_argument('disable-gpu') #그래픽 성능 낮춰서 크롤링 성능 높아기\n",
    "options.add_argument('lang=ko_KR')\n",
    "driver = webdriver.Chrome(options=options)"
   ]
  },
  {
   "cell_type": "code",
   "execution_count": null,
   "id": "c05dad81",
   "metadata": {},
   "outputs": [],
   "source": [
    "df = []\n",
    "load = 1\n",
    "\n",
    "url = 'https://www.teacherville.co.kr/trainguide/review/reviewList.edu'\n",
    "driver.get(url)\n",
    "time.sleep(5)\n",
    "\n",
    "# 스크롤 내리기(첫 페이지에서)\n",
    "driver.implicitly_wait(10)\n",
    "driver.execute_script(\"window.scrollTo(0, document.body.scrollHeight);\")\n",
    "\n",
    "# 다음 페이지로(첫 페이지에서)\n",
    "wait = WebDriverWait(driver, 30)\n",
    "wait.until(EC.element_to_be_clickable((By.XPATH, '''//*[@id=\"divPaging\"]/a[10]''')))\n",
    "driver.find_element(by='xpath', value=f'''//*[@id=\"divPaging\"]/a[10]''').click()\n",
    "\n",
    "\n",
    "for _ in range(100):\n",
    "    \n",
    "    time.sleep(3)\n",
    "    \n",
    "    # 스크롤 내리기\n",
    "    driver.execute_script(\"window.scrollTo(0, document.body.scrollHeight);\")\n",
    "    time.sleep(1)\n",
    "\n",
    "    # 다음 페이지로\n",
    "    wait.until(EC.element_to_be_clickable((By.XPATH, '''//*[@id=\"divPaging\"]/a[12]''')))\n",
    "    driver.find_element(by='xpath', value= f'''//*[@id=\"divPaging\"]/a[12]''').click()"
   ]
  },
  {
   "cell_type": "code",
   "execution_count": null,
   "id": "045dc669",
   "metadata": {},
   "outputs": [],
   "source": [
    "while load:\n",
    "\n",
    "    li=[3,4,5,6,7,8,9,10,11,12]\n",
    "        \n",
    "    for num in li:\n",
    "        \n",
    "        # 전체 페이지 내용 불러오기\n",
    "        hs = driver.page_source\n",
    "        soup = BeautifulSoup( hs, 'html.parser')\n",
    "        h = soup.find('ul',{'id':'reviewResultList'})\n",
    "        \n",
    "        # 2021년 10월부터 작성된 후기만 출력\n",
    "        # 2021년 9월에 작성된 데이터가 나오면 해당 페이지까지만 출력하고 반복문 멈춤\n",
    "        if date.split('/')[:2] == ['2021', '09']:\n",
    "            load = 0\n",
    "            break\n",
    "            \n",
    "        # 후기 내용을 특성별로 불러오기\n",
    "        for i in h.find_all('li'):\n",
    "            date = i.find('span','day').text\n",
    "            hour = i.find('strong','credit').text\n",
    "            name = i.find_all('p')[1].text.split(']')[1].strip()\n",
    "            cate = i.find_all('p')[1].text.split(']')[0].split('/')[1].strip()\n",
    "            text = i.find('p','text on').text.strip()\n",
    "            star = len(i.find_all('span','star on'))\n",
    "            df.append([hour,name,text,star,cate,date])\n",
    "\n",
    "\n",
    "        # 스크롤 내리기\n",
    "        driver.execute_script(\"window.scrollTo(0, document.body.scrollHeight);\")\n",
    "        time.sleep(3)\n",
    "\n",
    "        # 다음 페이지로\n",
    "        wait.until(EC.element_to_be_clickable((By.XPATH, f'''//*[@id=\"divPaging\"]/a[{num}]''')))\n",
    "        driver.find_element(by='xpath', value= f'''//*[@id=\"divPaging\"]/a[{num}]''').click()\n",
    "        time.sleep(3)"
   ]
  },
  {
   "cell_type": "code",
   "execution_count": null,
   "id": "f03a3725",
   "metadata": {},
   "outputs": [],
   "source": [
    "data = pd.DataFrame(df, columns = ['credit', 'subject', 'content', 'rating', 'category', 'date'])\n",
    "data.to_csv('티처빌.csv', encoding = 'utf-8-sig')"
   ]
  },
  {
   "cell_type": "code",
   "execution_count": null,
   "id": "4dbefa77",
   "metadata": {},
   "outputs": [],
   "source": []
  }
 ],
 "metadata": {
  "kernelspec": {
   "display_name": "Python 3 (ipykernel)",
   "language": "python",
   "name": "python3"
  },
  "language_info": {
   "codemirror_mode": {
    "name": "ipython",
    "version": 3
   },
   "file_extension": ".py",
   "mimetype": "text/x-python",
   "name": "python",
   "nbconvert_exporter": "python",
   "pygments_lexer": "ipython3",
   "version": "3.11.4"
  }
 },
 "nbformat": 4,
 "nbformat_minor": 5
}
