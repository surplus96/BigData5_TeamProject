{
 "cells": [
  {
   "cell_type": "markdown",
   "metadata": {},
   "source": [
    "## 티셀파 데이터 전처리\n",
    "\n",
    "- 중복 데이터 제거\n",
    "- 과목명이 다른데 후기내용이 같을 경우\n",
    "- 의미 없는 반복문 데이터\n",
    "- 날짜 다른데 후기내용 같음 (보류)"
   ]
  },
  {
   "cell_type": "markdown",
   "metadata": {},
   "source": []
  }
 ],
 "metadata": {
  "language_info": {
   "name": "python"
  }
 },
 "nbformat": 4,
 "nbformat_minor": 2
}
