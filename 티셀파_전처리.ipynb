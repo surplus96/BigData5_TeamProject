{
 "cells": [
  {
   "cell_type": "markdown",
   "metadata": {},
   "source": [
    "## 티셀파 데이터 전처리\n",
    "\n",
    "- 중복 데이터 제거\n",
    "- 과목명이 다른데 후기내용이 같을 경우\n",
    "- 의미 없는 반복문 데이터\n",
    "- 날짜 다른데 후기내용 같음 (보류)"
   ]
  },
  {
   "cell_type": "code",
   "execution_count": 3,
   "metadata": {},
   "outputs": [],
   "source": [
    "import pandas as pd\n",
    "import matplotlib.pyplot as plt\n",
    "import seaborn as sns\n",
    "import numpy as np\n",
    "from matplotlib import font_manager, rc\n",
    "import plotly.express as px\n",
    "import datetime as dt"
   ]
  },
  {
   "cell_type": "code",
   "execution_count": 5,
   "metadata": {},
   "outputs": [
    {
     "data": {
      "text/html": [
       "<div>\n",
       "<style scoped>\n",
       "    .dataframe tbody tr th:only-of-type {\n",
       "        vertical-align: middle;\n",
       "    }\n",
       "\n",
       "    .dataframe tbody tr th {\n",
       "        vertical-align: top;\n",
       "    }\n",
       "\n",
       "    .dataframe thead th {\n",
       "        text-align: right;\n",
       "    }\n",
       "</style>\n",
       "<table border=\"1\" class=\"dataframe\">\n",
       "  <thead>\n",
       "    <tr style=\"text-align: right;\">\n",
       "      <th></th>\n",
       "      <th>0</th>\n",
       "      <th>1</th>\n",
       "      <th>2</th>\n",
       "      <th>3</th>\n",
       "      <th>4</th>\n",
       "    </tr>\n",
       "  </thead>\n",
       "  <tbody>\n",
       "    <tr>\n",
       "      <th>0</th>\n",
       "      <td>파워포인트로 끝내는 교실 콘텐츠 창작 비법 노트</td>\n",
       "      <td>15시간</td>\n",
       "      <td>2023.10.24</td>\n",
       "      <td>NaN</td>\n",
       "      <td>이번 연수를 통하여 매일 인디에서 다운받아서 쓰던 학급이름표, 보드게임 형식 등을 ...</td>\n",
       "    </tr>\n",
       "    <tr>\n",
       "      <th>1</th>\n",
       "      <td>교육과정을 뒤집다! 백워드 통합단원 설계</td>\n",
       "      <td>15시간</td>\n",
       "      <td>2023.10.24</td>\n",
       "      <td>NaN</td>\n",
       "      <td>백워드에 대한 막연한 개념만 있었는데\\n강좌를 통하여 지식과 이해에 대한 구체적인 ...</td>\n",
       "    </tr>\n",
       "    <tr>\n",
       "      <th>2</th>\n",
       "      <td>파워포인트로 끝내는 교실 콘텐츠 창작 비법 노트</td>\n",
       "      <td>15시간</td>\n",
       "      <td>2023.10.23</td>\n",
       "      <td>NaN</td>\n",
       "      <td>파워포인트로 이렇게 많은 것을 할 수 있다는 것을 새롭게 알게 되어서 많이 부끄럽습...</td>\n",
       "    </tr>\n",
       "    <tr>\n",
       "      <th>3</th>\n",
       "      <td>손그림과 파워포인트로 교실 속 콘텐츠 만들기</td>\n",
       "      <td>30시간</td>\n",
       "      <td>2023.10.23</td>\n",
       "      <td>NaN</td>\n",
       "      <td>파워포인트 주로 사용하는데 매일 하던거만 하다 새로운걸 알아가네요~\\n감사합니다~</td>\n",
       "    </tr>\n",
       "    <tr>\n",
       "      <th>4</th>\n",
       "      <td>쉽게 배우고 활용하는 교실 속 손그림 그리기</td>\n",
       "      <td>15시간</td>\n",
       "      <td>2023.10.22</td>\n",
       "      <td>NaN</td>\n",
       "      <td>도형을 이용해 간단하게 손그림 그리는 방법을 배우는 유익한 연수였어요..\\n그런데 ...</td>\n",
       "    </tr>\n",
       "    <tr>\n",
       "      <th>...</th>\n",
       "      <td>...</td>\n",
       "      <td>...</td>\n",
       "      <td>...</td>\n",
       "      <td>...</td>\n",
       "      <td>...</td>\n",
       "    </tr>\n",
       "    <tr>\n",
       "      <th>1631</th>\n",
       "      <td>두근두근 교실밖 인문학 - 동양사편</td>\n",
       "      <td>30시간</td>\n",
       "      <td>2018.04.02</td>\n",
       "      <td>NaN</td>\n",
       "      <td>평소 우리나라 역사에 대한 강의를 듣고 싶어 여러 원격교육을 받던 중 셀파 원격교육...</td>\n",
       "    </tr>\n",
       "    <tr>\n",
       "      <th>1632</th>\n",
       "      <td>수업을 살리는 놀이 레시피</td>\n",
       "      <td>30시간</td>\n",
       "      <td>2018.01.25</td>\n",
       "      <td>NaN</td>\n",
       "      <td>어느 연수보다도 알찬 수업연수였습니다. 단순하게 이러한 방법을 활용할 수 있다라고 ...</td>\n",
       "    </tr>\n",
       "    <tr>\n",
       "      <th>1633</th>\n",
       "      <td>수업을 살리는 놀이 레시피</td>\n",
       "      <td>30시간</td>\n",
       "      <td>2018.01.13</td>\n",
       "      <td>NaN</td>\n",
       "      <td>교사의 수업이란 예전과 다르게 조금만 지루해도 학생들이 잘 안따르고 듣지 않은 경우...</td>\n",
       "    </tr>\n",
       "    <tr>\n",
       "      <th>1634</th>\n",
       "      <td>교과수업에 활용하는 진로교육</td>\n",
       "      <td>30시간</td>\n",
       "      <td>2018.01.09</td>\n",
       "      <td>NaN</td>\n",
       "      <td>강의 내용도 훌륭했고, 동영상 구성이나 그래픽도 아주 훌륭했습니다. 강사님의 프레젠...</td>\n",
       "    </tr>\n",
       "    <tr>\n",
       "      <th>1635</th>\n",
       "      <td>교과수업에 활용하는 진로교육</td>\n",
       "      <td>30시간</td>\n",
       "      <td>2018.01.08</td>\n",
       "      <td>NaN</td>\n",
       "      <td>진로교육과 관련해 이용할 수 있는 사이트와 사례들이 좋았습니다. 감사합니다^^</td>\n",
       "    </tr>\n",
       "  </tbody>\n",
       "</table>\n",
       "<p>1636 rows × 5 columns</p>\n",
       "</div>"
      ],
      "text/plain": [
       "                               0     1           2   3  \\\n",
       "0     파워포인트로 끝내는 교실 콘텐츠 창작 비법 노트  15시간  2023.10.24 NaN   \n",
       "1         교육과정을 뒤집다! 백워드 통합단원 설계  15시간  2023.10.24 NaN   \n",
       "2     파워포인트로 끝내는 교실 콘텐츠 창작 비법 노트  15시간  2023.10.23 NaN   \n",
       "3       손그림과 파워포인트로 교실 속 콘텐츠 만들기  30시간  2023.10.23 NaN   \n",
       "4       쉽게 배우고 활용하는 교실 속 손그림 그리기  15시간  2023.10.22 NaN   \n",
       "...                          ...   ...         ...  ..   \n",
       "1631         두근두근 교실밖 인문학 - 동양사편  30시간  2018.04.02 NaN   \n",
       "1632              수업을 살리는 놀이 레시피  30시간  2018.01.25 NaN   \n",
       "1633              수업을 살리는 놀이 레시피  30시간  2018.01.13 NaN   \n",
       "1634             교과수업에 활용하는 진로교육  30시간  2018.01.09 NaN   \n",
       "1635             교과수업에 활용하는 진로교육  30시간  2018.01.08 NaN   \n",
       "\n",
       "                                                      4  \n",
       "0     이번 연수를 통하여 매일 인디에서 다운받아서 쓰던 학급이름표, 보드게임 형식 등을 ...  \n",
       "1     백워드에 대한 막연한 개념만 있었는데\\n강좌를 통하여 지식과 이해에 대한 구체적인 ...  \n",
       "2     파워포인트로 이렇게 많은 것을 할 수 있다는 것을 새롭게 알게 되어서 많이 부끄럽습...  \n",
       "3         파워포인트 주로 사용하는데 매일 하던거만 하다 새로운걸 알아가네요~\\n감사합니다~  \n",
       "4     도형을 이용해 간단하게 손그림 그리는 방법을 배우는 유익한 연수였어요..\\n그런데 ...  \n",
       "...                                                 ...  \n",
       "1631  평소 우리나라 역사에 대한 강의를 듣고 싶어 여러 원격교육을 받던 중 셀파 원격교육...  \n",
       "1632  어느 연수보다도 알찬 수업연수였습니다. 단순하게 이러한 방법을 활용할 수 있다라고 ...  \n",
       "1633  교사의 수업이란 예전과 다르게 조금만 지루해도 학생들이 잘 안따르고 듣지 않은 경우...  \n",
       "1634  강의 내용도 훌륭했고, 동영상 구성이나 그래픽도 아주 훌륭했습니다. 강사님의 프레젠...  \n",
       "1635        진로교육과 관련해 이용할 수 있는 사이트와 사례들이 좋았습니다. 감사합니다^^  \n",
       "\n",
       "[1636 rows x 5 columns]"
      ]
     },
     "execution_count": 5,
     "metadata": {},
     "output_type": "execute_result"
    }
   ],
   "source": [
    "df = pd.read_csv('res_Tsherpa2.csv')\n",
    "df"
   ]
  },
  {
   "cell_type": "code",
   "execution_count": 6,
   "metadata": {},
   "outputs": [],
   "source": [
    "df.to_csv('./res_Tsherpa4.csv', index=False, encoding='utf-8-sig')"
   ]
  },
  {
   "cell_type": "code",
   "execution_count": 11,
   "metadata": {},
   "outputs": [
    {
     "name": "stdout",
     "output_type": "stream",
     "text": [
      "1636\n",
      "1636\n"
     ]
    }
   ],
   "source": [
    "print(len(df))\n",
    "df = df.drop_duplicates()\n",
    "print(len(df))"
   ]
  }
 ],
 "metadata": {
  "kernelspec": {
   "display_name": "base",
   "language": "python",
   "name": "python3"
  },
  "language_info": {
   "codemirror_mode": {
    "name": "ipython",
    "version": 3
   },
   "file_extension": ".py",
   "mimetype": "text/x-python",
   "name": "python",
   "nbconvert_exporter": "python",
   "pygments_lexer": "ipython3",
   "version": "3.11.4"
  }
 },
 "nbformat": 4,
 "nbformat_minor": 2
}
