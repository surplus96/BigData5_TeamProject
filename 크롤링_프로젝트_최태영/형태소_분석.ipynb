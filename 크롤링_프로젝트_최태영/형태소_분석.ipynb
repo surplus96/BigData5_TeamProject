{
  "cells": [
    {
      "cell_type": "code",
      "execution_count": null,
      "metadata": {
        "colab": {
          "base_uri": "https://localhost:8080/"
        },
        "id": "xhjg6OTVB0d5",
        "outputId": "e37bebab-0116-4907-9af6-1c15a6281c8c"
      },
      "outputs": [
        {
          "name": "stdout",
          "output_type": "stream",
          "text": [
            "/bin/bash: suod: command not found\n",
            "/usr/share/fonts: caching, new cache contents: 0 fonts, 1 dirs\n",
            "/usr/share/fonts/truetype: caching, new cache contents: 0 fonts, 2 dirs\n",
            "/usr/share/fonts/truetype/humor-sans: caching, new cache contents: 1 fonts, 0 dirs\n",
            "/usr/share/fonts/truetype/liberation: caching, new cache contents: 16 fonts, 0 dirs\n",
            "/usr/local/share/fonts: caching, new cache contents: 0 fonts, 0 dirs\n",
            "/root/.local/share/fonts: skipping, no such directory\n",
            "/root/.fonts: skipping, no such directory\n",
            "/usr/share/fonts/truetype: skipping, looped directory detected\n",
            "/usr/share/fonts/truetype/humor-sans: skipping, looped directory detected\n",
            "/usr/share/fonts/truetype/liberation: skipping, looped directory detected\n",
            "/var/cache/fontconfig: cleaning cache directory\n",
            "/root/.cache/fontconfig: not cleaning non-existent cache directory\n",
            "/root/.fontconfig: not cleaning non-existent cache directory\n",
            "fc-cache: succeeded\n"
          ]
        }
      ],
      "source": [
        "!suod apt-get install -y fonts-nanum\n",
        "!sudo fc-cache -fv\n",
        "!rm ~/.cache/matplotlib -rf\n"
      ]
    },
    {
      "cell_type": "code",
      "execution_count": null,
      "metadata": {
        "id": "-RTp6zAWCMty"
      },
      "outputs": [],
      "source": [
        "import pandas as pd\n",
        "import numpy as np\n",
        "\n",
        "import os, re\n",
        "from tqdm import tqdm\n",
        "\n",
        "# 경고문구 미표시\n",
        "import warnings\n",
        "warnings.filterwarnings('ignore')\n",
        "\n",
        "# 한글 폰트 지정\n",
        "import matplotlib.pyplot as plt\n",
        "plt.rc('font', family='NanumBarunGothic')"
      ]
    },
    {
      "cell_type": "code",
      "execution_count": null,
      "metadata": {
        "id": "FpIUZr6hCP3D"
      },
      "outputs": [],
      "source": [
        "DATA_DIR = \"./data\"\n",
        "os.makedirs(DATA_DIR, exist_ok=True)"
      ]
    },
    {
      "cell_type": "code",
      "execution_count": null,
      "metadata": {
        "colab": {
          "base_uri": "https://localhost:8080/",
          "height": 54
        },
        "id": "rKjRs4JaCRWJ",
        "outputId": "c19b3e39-c058-406e-d306-9d9b6a122529"
      },
      "outputs": [
        {
          "name": "stderr",
          "output_type": "stream",
          "text": [
            "14.6MB [00:00, 79.2MB/s]\n"
          ]
        },
        {
          "data": {
            "application/vnd.google.colaboratory.intrinsic+json": {
              "type": "string"
            },
            "text/plain": [
              "'/content/data/review.txt'"
            ]
          },
          "execution_count": 4,
          "metadata": {},
          "output_type": "execute_result"
        }
      ],
      "source": [
        "import torchtext\n",
        "torchtext.utils.download_from_url(url='https://raw.githubusercontent.com/e9t/nsmc/master/ratings_train.txt',\n",
        "                                  path=os.path.join(DATA_DIR, 'review.txt'))"
      ]
    },
    {
      "cell_type": "code",
      "execution_count": null,
      "metadata": {
        "colab": {
          "base_uri": "https://localhost:8080/",
          "height": 225
        },
        "id": "akDWhlNfCVgj",
        "outputId": "961504ae-33dc-482b-a08c-683fabe1375e"
      },
      "outputs": [
        {
          "name": "stdout",
          "output_type": "stream",
          "text": [
            "(150000, 3)\n"
          ]
        },
        {
          "data": {
            "text/html": [
              "\n",
              "  <div id=\"df-d2a66ed7-9714-423f-94f1-197100fcf6ba\">\n",
              "    <div class=\"colab-df-container\">\n",
              "      <div>\n",
              "<style scoped>\n",
              "    .dataframe tbody tr th:only-of-type {\n",
              "        vertical-align: middle;\n",
              "    }\n",
              "\n",
              "    .dataframe tbody tr th {\n",
              "        vertical-align: top;\n",
              "    }\n",
              "\n",
              "    .dataframe thead th {\n",
              "        text-align: right;\n",
              "    }\n",
              "</style>\n",
              "<table border=\"1\" class=\"dataframe\">\n",
              "  <thead>\n",
              "    <tr style=\"text-align: right;\">\n",
              "      <th></th>\n",
              "      <th>id</th>\n",
              "      <th>document</th>\n",
              "      <th>label</th>\n",
              "    </tr>\n",
              "  </thead>\n",
              "  <tbody>\n",
              "    <tr>\n",
              "      <th>0</th>\n",
              "      <td>9976970</td>\n",
              "      <td>아 더빙.. 진짜 짜증나네요 목소리</td>\n",
              "      <td>0</td>\n",
              "    </tr>\n",
              "    <tr>\n",
              "      <th>1</th>\n",
              "      <td>3819312</td>\n",
              "      <td>흠...포스터보고 초딩영화줄....오버연기조차 가볍지 않구나</td>\n",
              "      <td>1</td>\n",
              "    </tr>\n",
              "    <tr>\n",
              "      <th>2</th>\n",
              "      <td>10265843</td>\n",
              "      <td>너무재밓었다그래서보는것을추천한다</td>\n",
              "      <td>0</td>\n",
              "    </tr>\n",
              "    <tr>\n",
              "      <th>3</th>\n",
              "      <td>9045019</td>\n",
              "      <td>교도소 이야기구먼 ..솔직히 재미는 없다..평점 조정</td>\n",
              "      <td>0</td>\n",
              "    </tr>\n",
              "    <tr>\n",
              "      <th>4</th>\n",
              "      <td>6483659</td>\n",
              "      <td>사이몬페그의 익살스런 연기가 돋보였던 영화!스파이더맨에서 늙어보이기만 했던 커스틴 ...</td>\n",
              "      <td>1</td>\n",
              "    </tr>\n",
              "  </tbody>\n",
              "</table>\n",
              "</div>\n",
              "      <button class=\"colab-df-convert\" onclick=\"convertToInteractive('df-d2a66ed7-9714-423f-94f1-197100fcf6ba')\"\n",
              "              title=\"Convert this dataframe to an interactive table.\"\n",
              "              style=\"display:none;\">\n",
              "        \n",
              "  <svg xmlns=\"http://www.w3.org/2000/svg\" height=\"24px\"viewBox=\"0 0 24 24\"\n",
              "       width=\"24px\">\n",
              "    <path d=\"M0 0h24v24H0V0z\" fill=\"none\"/>\n",
              "    <path d=\"M18.56 5.44l.94 2.06.94-2.06 2.06-.94-2.06-.94-.94-2.06-.94 2.06-2.06.94zm-11 1L8.5 8.5l.94-2.06 2.06-.94-2.06-.94L8.5 2.5l-.94 2.06-2.06.94zm10 10l.94 2.06.94-2.06 2.06-.94-2.06-.94-.94-2.06-.94 2.06-2.06.94z\"/><path d=\"M17.41 7.96l-1.37-1.37c-.4-.4-.92-.59-1.43-.59-.52 0-1.04.2-1.43.59L10.3 9.45l-7.72 7.72c-.78.78-.78 2.05 0 2.83L4 21.41c.39.39.9.59 1.41.59.51 0 1.02-.2 1.41-.59l7.78-7.78 2.81-2.81c.8-.78.8-2.07 0-2.86zM5.41 20L4 18.59l7.72-7.72 1.47 1.35L5.41 20z\"/>\n",
              "  </svg>\n",
              "      </button>\n",
              "      \n",
              "  <style>\n",
              "    .colab-df-container {\n",
              "      display:flex;\n",
              "      flex-wrap:wrap;\n",
              "      gap: 12px;\n",
              "    }\n",
              "\n",
              "    .colab-df-convert {\n",
              "      background-color: #E8F0FE;\n",
              "      border: none;\n",
              "      border-radius: 50%;\n",
              "      cursor: pointer;\n",
              "      display: none;\n",
              "      fill: #1967D2;\n",
              "      height: 32px;\n",
              "      padding: 0 0 0 0;\n",
              "      width: 32px;\n",
              "    }\n",
              "\n",
              "    .colab-df-convert:hover {\n",
              "      background-color: #E2EBFA;\n",
              "      box-shadow: 0px 1px 2px rgba(60, 64, 67, 0.3), 0px 1px 3px 1px rgba(60, 64, 67, 0.15);\n",
              "      fill: #174EA6;\n",
              "    }\n",
              "\n",
              "    [theme=dark] .colab-df-convert {\n",
              "      background-color: #3B4455;\n",
              "      fill: #D2E3FC;\n",
              "    }\n",
              "\n",
              "    [theme=dark] .colab-df-convert:hover {\n",
              "      background-color: #434B5C;\n",
              "      box-shadow: 0px 1px 3px 1px rgba(0, 0, 0, 0.15);\n",
              "      filter: drop-shadow(0px 1px 2px rgba(0, 0, 0, 0.3));\n",
              "      fill: #FFFFFF;\n",
              "    }\n",
              "  </style>\n",
              "\n",
              "      <script>\n",
              "        const buttonEl =\n",
              "          document.querySelector('#df-d2a66ed7-9714-423f-94f1-197100fcf6ba button.colab-df-convert');\n",
              "        buttonEl.style.display =\n",
              "          google.colab.kernel.accessAllowed ? 'block' : 'none';\n",
              "\n",
              "        async function convertToInteractive(key) {\n",
              "          const element = document.querySelector('#df-d2a66ed7-9714-423f-94f1-197100fcf6ba');\n",
              "          const dataTable =\n",
              "            await google.colab.kernel.invokeFunction('convertToInteractive',\n",
              "                                                     [key], {});\n",
              "          if (!dataTable) return;\n",
              "\n",
              "          const docLinkHtml = 'Like what you see? Visit the ' +\n",
              "            '<a target=\"_blank\" href=https://colab.research.google.com/notebooks/data_table.ipynb>data table notebook</a>'\n",
              "            + ' to learn more about interactive tables.';\n",
              "          element.innerHTML = '';\n",
              "          dataTable['output_type'] = 'display_data';\n",
              "          await google.colab.output.renderOutput(dataTable, element);\n",
              "          const docLink = document.createElement('div');\n",
              "          docLink.innerHTML = docLinkHtml;\n",
              "          element.appendChild(docLink);\n",
              "        }\n",
              "      </script>\n",
              "    </div>\n",
              "  </div>\n",
              "  "
            ],
            "text/plain": [
              "         id                                           document  label\n",
              "0   9976970                                아 더빙.. 진짜 짜증나네요 목소리      0\n",
              "1   3819312                  흠...포스터보고 초딩영화줄....오버연기조차 가볍지 않구나      1\n",
              "2  10265843                                  너무재밓었다그래서보는것을추천한다      0\n",
              "3   9045019                      교도소 이야기구먼 ..솔직히 재미는 없다..평점 조정      0\n",
              "4   6483659  사이몬페그의 익살스런 연기가 돋보였던 영화!스파이더맨에서 늙어보이기만 했던 커스틴 ...      1"
            ]
          },
          "execution_count": 5,
          "metadata": {},
          "output_type": "execute_result"
        }
      ],
      "source": [
        "data = pd.read_csv(os.path.join(DATA_DIR, 'review.txt'), sep='\\t')\n",
        "\n",
        "# 데이터프레임의 크기\n",
        "print(data.shape)\n",
        "\n",
        "# 첫 5행을 출력\n",
        "data.head()"
      ]
    },
    {
      "cell_type": "code",
      "execution_count": null,
      "metadata": {
        "colab": {
          "base_uri": "https://localhost:8080/"
        },
        "id": "fT9PJq5iCXG2",
        "outputId": "e3513d97-6f75-4f0a-f4b9-fb1faf8ccfde"
      },
      "outputs": [
        {
          "name": "stdout",
          "output_type": "stream",
          "text": [
            "Looking in indexes: https://pypi.org/simple, https://us-python.pkg.dev/colab-wheels/public/simple/\n",
            "Collecting konlpy\n",
            "  Downloading konlpy-0.6.0-py2.py3-none-any.whl (19.4 MB)\n",
            "\u001b[2K     \u001b[90m━━━━━━━━━━━━━━━━━━━━━━━━━━━━━━━━━━━━━━━━\u001b[0m \u001b[32m19.4/19.4 MB\u001b[0m \u001b[31m61.7 MB/s\u001b[0m eta \u001b[36m0:00:00\u001b[0m\n",
            "\u001b[?25hRequirement already satisfied: numpy>=1.6 in /usr/local/lib/python3.8/dist-packages (from konlpy) (1.21.6)\n",
            "Collecting JPype1>=0.7.0\n",
            "  Downloading JPype1-1.4.1-cp38-cp38-manylinux_2_12_x86_64.manylinux2010_x86_64.whl (465 kB)\n",
            "\u001b[2K     \u001b[90m━━━━━━━━━━━━━━━━━━━━━━━━━━━━━━━━━━━━━━\u001b[0m \u001b[32m465.6/465.6 KB\u001b[0m \u001b[31m43.0 MB/s\u001b[0m eta \u001b[36m0:00:00\u001b[0m\n",
            "\u001b[?25hRequirement already satisfied: lxml>=4.1.0 in /usr/local/lib/python3.8/dist-packages (from konlpy) (4.9.2)\n",
            "Requirement already satisfied: packaging in /usr/local/lib/python3.8/dist-packages (from JPype1>=0.7.0->konlpy) (23.0)\n",
            "Installing collected packages: JPype1, konlpy\n",
            "Successfully installed JPype1-1.4.1 konlpy-0.6.0\n"
          ]
        }
      ],
      "source": [
        "! pip install konlpy"
      ]
    },
    {
      "cell_type": "code",
      "execution_count": null,
      "metadata": {
        "colab": {
          "base_uri": "https://localhost:8080/"
        },
        "id": "VIPxOpQ7CbwC",
        "outputId": "647a2b47-81de-46f0-c87c-35553b639ac3"
      },
      "outputs": [
        {
          "name": "stdout",
          "output_type": "stream",
          "text": [
            "<class 'str'>\n",
            "그리 만족스럽진못했어도 7점은 나와야되는것같아 10점줌. 주인공들연기도 훌륭했고 내용도 이정도면 괜찮았다. 해피엔딩으로끝났으면 그저 진부한영화가 되버릴뻔. 그래도 엔딩이 섭섭한건 없지않아있었음. 킬러들의도시도그렇고 콜린파렐을 너무 축축하게 끝내버리는듯\n"
          ]
        }
      ],
      "source": [
        "sample_text = data['document'].iloc[149978]\n",
        "print(type(sample_text))\n",
        "print(sample_text)"
      ]
    },
    {
      "cell_type": "code",
      "execution_count": null,
      "metadata": {
        "colab": {
          "base_uri": "https://localhost:8080/"
        },
        "id": "0HbUZ9mHCcsG",
        "outputId": "a21c7695-c032-4e45-c714-aef13acd82a3"
      },
      "outputs": [
        {
          "name": "stdout",
          "output_type": "stream",
          "text": [
            "<konlpy.tag._okt.Okt object at 0x7f947ade8880>\n"
          ]
        }
      ],
      "source": [
        "from konlpy.utils import pprint\n",
        "from konlpy.tag import Okt\n",
        "okt = Okt()\n",
        "print(okt)"
      ]
    },
    {
      "cell_type": "code",
      "execution_count": null,
      "metadata": {
        "colab": {
          "base_uri": "https://localhost:8080/"
        },
        "id": "2Fx12mYICf_u",
        "outputId": "c91da1e6-71d3-4995-990b-f5e2d8587d82"
      },
      "outputs": [
        {
          "name": "stdout",
          "output_type": "stream",
          "text": [
            "[('그리', 'Verb'),\n",
            " ('만족스럽진못', 'Adjective'),\n",
            " ('했어도', 'Verb'),\n",
            " ('7', 'Number'),\n",
            " ('점', 'Noun'),\n",
            " ('은', 'Josa'),\n",
            " ('나와야', 'Verb'),\n",
            " ('되는것', 'Verb'),\n",
            " ('같아', 'Adjective'),\n",
            " ('10', 'Number'),\n",
            " ('점줌', 'Noun'),\n",
            " ('.', 'Punctuation'),\n",
            " ('주인공', 'Noun'),\n",
            " ('들', 'Suffix'),\n",
            " ('연', 'Modifier'),\n",
            " ('기도', 'Noun'),\n",
            " ('훌륭했고', 'Adjective'),\n",
            " ('내용', 'Noun'),\n",
            " ('도', 'Josa'),\n",
            " ('이', 'Determiner'),\n",
            " ('정도', 'Noun'),\n",
            " ('면', 'Josa'),\n",
            " ('괜찮았다', 'Adjective'),\n",
            " ('.', 'Punctuation'),\n",
            " ('해피엔딩', 'Noun'),\n",
            " ('으로', 'Josa'),\n",
            " ('끝났으면', 'Verb'),\n",
            " ('그저', 'Adverb'),\n",
            " ('진부한', 'Adjective'),\n",
            " ('영화', 'Noun'),\n",
            " ('가', 'Josa'),\n",
            " ('되', 'Verb'),\n",
            " ('버릴', 'Verb'),\n",
            " ('뻔', 'Noun'),\n",
            " ('.', 'Punctuation'),\n",
            " ('그래도', 'Adverb'),\n",
            " ('엔딩', 'Noun'),\n",
            " ('이', 'Josa'),\n",
            " ('섭섭한건', 'Adjective'),\n",
            " ('없지', 'Adjective'),\n",
            " ('않아있었음', 'Verb'),\n",
            " ('.', 'Punctuation'),\n",
            " ('킬러', 'Noun'),\n",
            " ('들', 'Suffix'),\n",
            " ('의', 'Josa'),\n",
            " ('도시', 'Noun'),\n",
            " ('도', 'Josa'),\n",
            " ('그렇고', 'Adjective'),\n",
            " ('콜린파렐', 'Noun'),\n",
            " ('을', 'Josa'),\n",
            " ('너무', 'Adverb'),\n",
            " ('축축하게', 'Adjective'),\n",
            " ('끝내', 'Noun'),\n",
            " ('버리는듯', 'Verb')]\n"
          ]
        }
      ],
      "source": [
        "tokens = okt.pos(sample_text)\n",
        "pprint(tokens)"
      ]
    },
    {
      "cell_type": "code",
      "execution_count": null,
      "metadata": {
        "colab": {
          "base_uri": "https://localhost:8080/"
        },
        "id": "ezfVt5FbCjRL",
        "outputId": "4c545b9b-bb6f-40e0-8a92-6a2ca6ead901"
      },
      "outputs": [
        {
          "name": "stdout",
          "output_type": "stream",
          "text": [
            "['그리',\n",
            " '만족스럽진못',\n",
            " '했어도',\n",
            " '7',\n",
            " '점',\n",
            " '은',\n",
            " '나와야',\n",
            " '되는것',\n",
            " '같아',\n",
            " '10',\n",
            " '점줌',\n",
            " '.',\n",
            " '주인공',\n",
            " '들',\n",
            " '연',\n",
            " '기도',\n",
            " '훌륭했고',\n",
            " '내용',\n",
            " '도',\n",
            " '이',\n",
            " '정도',\n",
            " '면',\n",
            " '괜찮았다',\n",
            " '.',\n",
            " '해피엔딩',\n",
            " '으로',\n",
            " '끝났으면',\n",
            " '그저',\n",
            " '진부한',\n",
            " '영화',\n",
            " '가',\n",
            " '되',\n",
            " '버릴',\n",
            " '뻔',\n",
            " '.',\n",
            " '그래도',\n",
            " '엔딩',\n",
            " '이',\n",
            " '섭섭한건',\n",
            " '없지',\n",
            " '않아있었음',\n",
            " '.',\n",
            " '킬러',\n",
            " '들',\n",
            " '의',\n",
            " '도시',\n",
            " '도',\n",
            " '그렇고',\n",
            " '콜린파렐',\n",
            " '을',\n",
            " '너무',\n",
            " '축축하게',\n",
            " '끝내',\n",
            " '버리는듯']\n"
          ]
        }
      ],
      "source": [
        "tokens = okt.morphs(sample_text)\n",
        "pprint(tokens)"
      ]
    },
    {
      "cell_type": "code",
      "execution_count": null,
      "metadata": {
        "colab": {
          "base_uri": "https://localhost:8080/"
        },
        "id": "OWR8Yl1UCl4g",
        "outputId": "2c8cc08d-e423-4fc5-8d1b-0e93840671a0"
      },
      "outputs": [
        {
          "name": "stdout",
          "output_type": "stream",
          "text": [
            "['점', '점줌', '주인공', '기도', '내용', '정도', '해피엔딩', '영화', '뻔', '엔딩', '킬러', '도시', '콜린파렐', '끝내']\n"
          ]
        }
      ],
      "source": [
        "tokens = okt.nouns(sample_text)\n",
        "print(tokens)"
      ]
    },
    {
      "cell_type": "code",
      "execution_count": null,
      "metadata": {
        "colab": {
          "base_uri": "https://localhost:8080/"
        },
        "id": "t34ZN421CrqC",
        "outputId": "5546fe8a-7428-4a23-e312-a81ebd458033"
      },
      "outputs": [
        {
          "name": "stdout",
          "output_type": "stream",
          "text": [
            "(5000,)\n",
            "아 더빙.. 진짜 짜증나네요 목소리\n"
          ]
        }
      ],
      "source": [
        "review_data = data['document'].dropna().values\n",
        "\n",
        "review_data = review_data[:5000]\n",
        "\n",
        "print(review_data.shape)\n",
        "\n",
        "print(review_data[0])"
      ]
    },
    {
      "cell_type": "code",
      "execution_count": null,
      "metadata": {
        "colab": {
          "base_uri": "https://localhost:8080/"
        },
        "id": "iuhddac9C4Bj",
        "outputId": "319a7d8b-7b08-4ae2-92ce-a36600220fde"
      },
      "outputs": [
        {
          "name": "stderr",
          "output_type": "stream",
          "text": [
            "100%|██████████| 5000/5000 [00:22<00:00, 218.47it/s]"
          ]
        },
        {
          "name": "stdout",
          "output_type": "stream",
          "text": [
            "5000\n",
            "목소리\n"
          ]
        },
        {
          "name": "stderr",
          "output_type": "stream",
          "text": [
            "\n"
          ]
        }
      ],
      "source": [
        "cleaned_review_data = []\n",
        "\n",
        "for review in tqdm(review_data):\n",
        "    tokens = okt.nouns(review)\n",
        "    cleaned_tokens = []\n",
        "    for word in tokens:\n",
        "        if len(word) > 2:\n",
        "            cleaned_tokens.append(word)\n",
        "        else:\n",
        "            pass\n",
        "    cleaned_review = \" \".join(cleaned_tokens)\n",
        "    cleaned_review_data.append(cleaned_review)\n",
        "\n",
        "print(len(cleaned_review_data))\n",
        "print(cleaned_review_data[0])"
      ]
    },
    {
      "cell_type": "code",
      "execution_count": null,
      "metadata": {
        "colab": {
          "base_uri": "https://localhost:8080/"
        },
        "id": "D6TdfvGdDIA-",
        "outputId": "2fce2a11-c369-4f3e-97f3-19e616b88e88"
      },
      "outputs": [
        {
          "name": "stdout",
          "output_type": "stream",
          "text": [
            "(5000, 2138)\n",
            "  (0, 574)\t1.0\n"
          ]
        }
      ],
      "source": [
        "# 사이킷런 패키지 활용\n",
        "from sklearn.feature_extraction.text import TfidfVectorizer\n",
        "\n",
        "# TF-IDF 변환기 객체를 생성\n",
        "tfid = TfidfVectorizer()\n",
        "\n",
        "# TF-IDF 변환기에 데이터를 입력하여 변환\n",
        "review_tfid = tfid.fit_transform(cleaned_review_data)\n",
        "\n",
        "# 배열의 크기\n",
        "print(review_tfid.shape)\n",
        "\n",
        "# 첫 번째 데이터\n",
        "print(review_tfid[0])"
      ]
    },
    {
      "cell_type": "code",
      "execution_count": null,
      "metadata": {
        "colab": {
          "base_uri": "https://localhost:8080/"
        },
        "id": "qWmgySMRDMhR",
        "outputId": "6e64dcda-19c0-4180-fbc0-d7b7ef5d6e56"
      },
      "outputs": [
        {
          "name": "stdout",
          "output_type": "stream",
          "text": [
            "2138\n",
            "{'목소리': 574, '포스터': 1958, '교도소': 120, '이야기': 1422, '스파이더맨': 978}\n"
          ]
        }
      ],
      "source": [
        "vocab = tfid.vocabulary_\n",
        "\n",
        "# 단어 사전의 크기\n",
        "print(len(vocab))\n",
        "\n",
        "# 단어 사전 출력 (앞에서 5개의 단어만 출력)\n",
        "print({ k:v for i, (k, v) in enumerate(vocab.items()) if i < 5 })"
      ]
    },
    {
      "cell_type": "code",
      "execution_count": null,
      "metadata": {
        "colab": {
          "base_uri": "https://localhost:8080/"
        },
        "id": "qe8M_Z2nDQIH",
        "outputId": "beda2c7d-7295-48cc-99f5-aa7cc2443aea"
      },
      "outputs": [
        {
          "name": "stdout",
          "output_type": "stream",
          "text": [
            "{574: '목소리', 1958: '포스터', 120: '교도소', 1422: '이야기', 978: '스파이더맨'}\n"
          ]
        }
      ],
      "source": [
        "index_to_word = { v:k for k, v in vocab.items() }\n",
        "\n",
        "# 앞에서 5개의 단어를 출력\n",
        "print({  k:v for i, (k, v) in enumerate(index_to_word.items()) if i < 5 })"
      ]
    },
    {
      "cell_type": "code",
      "execution_count": null,
      "metadata": {
        "colab": {
          "base_uri": "https://localhost:8080/",
          "height": 35
        },
        "id": "yFjMaUscDV95",
        "outputId": "eb8706af-bce6-4e47-d5aa-bbc551df3a58"
      },
      "outputs": [
        {
          "data": {
            "application/vnd.google.colaboratory.intrinsic+json": {
              "type": "string"
            },
            "text/plain": [
              "'목소리'"
            ]
          },
          "execution_count": 17,
          "metadata": {},
          "output_type": "execute_result"
        }
      ],
      "source": [
        "original_text = \" \".join([index_to_word[word_idx] for word_idx in review_tfid[0].indices])\n",
        "original_text"
      ]
    },
    {
      "cell_type": "code",
      "execution_count": null,
      "metadata": {
        "colab": {
          "base_uri": "https://localhost:8080/"
        },
        "id": "kmpJoZwgDZbg",
        "outputId": "586c4167-ff77-49e2-b9e6-b0cbb596a7e0"
      },
      "outputs": [
        {
          "data": {
            "text/plain": [
              "LatentDirichletAllocation(n_components=2)"
            ]
          },
          "execution_count": 18,
          "metadata": {},
          "output_type": "execute_result"
        }
      ],
      "source": [
        "from sklearn.decomposition import LatentDirichletAllocation\n",
        "\n",
        "# LDA 모델링 객체를 생성 (토픽 갯수를 2로 설정: 긍정/부정)\n",
        "lda = LatentDirichletAllocation(n_components=2)\n",
        "\n",
        "# TF-IDF 벡터를 입력하여 모델 학습\n",
        "lda.fit(review_tfid)"
      ]
    },
    {
      "cell_type": "code",
      "execution_count": null,
      "metadata": {
        "colab": {
          "base_uri": "https://localhost:8080/"
        },
        "id": "iS7IkkozDcPe",
        "outputId": "0a616046-6f97-4d7c-b1ee-ca39e4f99b66"
      },
      "outputs": [
        {
          "name": "stdout",
          "output_type": "stream",
          "text": [
            "(2, 2138)\n"
          ]
        }
      ],
      "source": [
        "print(lda.components_.shape)"
      ]
    },
    {
      "cell_type": "code",
      "execution_count": null,
      "metadata": {
        "colab": {
          "base_uri": "https://localhost:8080/"
        },
        "id": "J_QCDa1ZDgDb",
        "outputId": "9d037d13-74f5-4093-b675-b848e3817523"
      },
      "outputs": [
        {
          "name": "stdout",
          "output_type": "stream",
          "text": [
            "토픽 유형 1: [('스토리', 103.295), ('드라마', 98.582), ('쓰레기', 68.095), ('주인공', 60.349), ('이영화', 38.376), ('캐릭터', 20.447), ('최고다', 19.909), ('우리나라', 18.239), ('한국영', 18.08), ('로맨스', 16.93)]\n",
            "토픽 유형 2: [('마지막', 54.324), ('이야기', 47.955), ('코미디', 24.18), ('시리즈', 21.763), ('연기력', 21.603), ('캐스팅', 19.394), ('스릴러', 19.028), ('포스터', 17.487), ('긴장감', 17.256), ('공포영화', 16.829)]\n"
          ]
        }
      ],
      "source": [
        "for idx, topic in enumerate(lda.components_):\n",
        "    print(f\"토픽 유형 {idx+1}:\", [(index_to_word[i], topic[i].round(3)) for i in topic.argsort()[:-11:-1]])"
      ]
    },
    {
      "cell_type": "code",
      "execution_count": null,
      "metadata": {
        "colab": {
          "base_uri": "https://localhost:8080/"
        },
        "id": "2A9HEqIDDjX-",
        "outputId": "9029097a-3ece-4de3-f395-08deaf564f5e"
      },
      "outputs": [
        {
          "name": "stdout",
          "output_type": "stream",
          "text": [
            "Looking in indexes: https://pypi.org/simple, https://us-python.pkg.dev/colab-wheels/public/simple/\n",
            "Collecting pyLDAvis\n",
            "  Downloading pyLDAvis-3.3.1.tar.gz (1.7 MB)\n",
            "\u001b[2K     \u001b[90m━━━━━━━━━━━━━━━━━━━━━━━━━━━━━━━━━━━━━━━━\u001b[0m \u001b[32m1.7/1.7 MB\u001b[0m \u001b[31m20.6 MB/s\u001b[0m eta \u001b[36m0:00:00\u001b[0m\n",
            "\u001b[?25h  Installing build dependencies ... \u001b[?25l\u001b[?25hdone\n",
            "  Getting requirements to build wheel ... \u001b[?25l\u001b[?25hdone\n",
            "  Installing backend dependencies ... \u001b[?25l\u001b[?25hdone\n",
            "  Preparing metadata (pyproject.toml) ... \u001b[?25l\u001b[?25hdone\n",
            "Requirement already satisfied: joblib in /usr/local/lib/python3.8/dist-packages (from pyLDAvis) (1.2.0)\n",
            "Requirement already satisfied: scikit-learn in /usr/local/lib/python3.8/dist-packages (from pyLDAvis) (1.0.2)\n",
            "Collecting funcy\n",
            "  Downloading funcy-1.18-py2.py3-none-any.whl (33 kB)\n",
            "Requirement already satisfied: scipy in /usr/local/lib/python3.8/dist-packages (from pyLDAvis) (1.7.3)\n",
            "Requirement already satisfied: jinja2 in /usr/local/lib/python3.8/dist-packages (from pyLDAvis) (2.11.3)\n",
            "Requirement already satisfied: future in /usr/local/lib/python3.8/dist-packages (from pyLDAvis) (0.16.0)\n",
            "Requirement already satisfied: gensim in /usr/local/lib/python3.8/dist-packages (from pyLDAvis) (3.6.0)\n",
            "Requirement already satisfied: numpy>=1.20.0 in /usr/local/lib/python3.8/dist-packages (from pyLDAvis) (1.21.6)\n",
            "Requirement already satisfied: numexpr in /usr/local/lib/python3.8/dist-packages (from pyLDAvis) (2.8.4)\n",
            "Requirement already satisfied: setuptools in /usr/local/lib/python3.8/dist-packages (from pyLDAvis) (57.4.0)\n",
            "Collecting sklearn\n",
            "  Downloading sklearn-0.0.post1.tar.gz (3.6 kB)\n",
            "  Preparing metadata (setup.py) ... \u001b[?25l\u001b[?25hdone\n",
            "Requirement already satisfied: pandas>=1.2.0 in /usr/local/lib/python3.8/dist-packages (from pyLDAvis) (1.3.5)\n",
            "Requirement already satisfied: python-dateutil>=2.7.3 in /usr/local/lib/python3.8/dist-packages (from pandas>=1.2.0->pyLDAvis) (2.8.2)\n",
            "Requirement already satisfied: pytz>=2017.3 in /usr/local/lib/python3.8/dist-packages (from pandas>=1.2.0->pyLDAvis) (2022.7.1)\n",
            "Requirement already satisfied: smart-open>=1.2.1 in /usr/local/lib/python3.8/dist-packages (from gensim->pyLDAvis) (6.3.0)\n",
            "Requirement already satisfied: six>=1.5.0 in /usr/local/lib/python3.8/dist-packages (from gensim->pyLDAvis) (1.15.0)\n",
            "Requirement already satisfied: MarkupSafe>=0.23 in /usr/local/lib/python3.8/dist-packages (from jinja2->pyLDAvis) (2.0.1)\n",
            "Requirement already satisfied: threadpoolctl>=2.0.0 in /usr/local/lib/python3.8/dist-packages (from scikit-learn->pyLDAvis) (3.1.0)\n",
            "Building wheels for collected packages: pyLDAvis, sklearn\n",
            "  Building wheel for pyLDAvis (pyproject.toml) ... \u001b[?25l\u001b[?25hdone\n",
            "  Created wheel for pyLDAvis: filename=pyLDAvis-3.3.1-py2.py3-none-any.whl size=136898 sha256=3b8e3c538658e1609dd5281f5c1a51da3808eee33907ff205a626b6129092912\n",
            "  Stored in directory: /root/.cache/pip/wheels/90/61/ec/9dbe9efc3acf9c4e37ba70fbbcc3f3a0ebd121060aa593181a\n",
            "  Building wheel for sklearn (setup.py) ... \u001b[?25l\u001b[?25hdone\n",
            "  Created wheel for sklearn: filename=sklearn-0.0.post1-py3-none-any.whl size=2344 sha256=9d9eaeea86917d514be16cf0ad5b1d19f60499b7d3a2da5555e81289546237dc\n",
            "  Stored in directory: /root/.cache/pip/wheels/14/25/f7/1cc0956978ae479e75140219088deb7a36f60459df242b1a72\n",
            "Successfully built pyLDAvis sklearn\n",
            "Installing collected packages: sklearn, funcy, pyLDAvis\n",
            "Successfully installed funcy-1.18 pyLDAvis-3.3.1 sklearn-0.0.post1\n"
          ]
        }
      ],
      "source": [
        "!pip install pyLDAvis"
      ]
    },
    {
      "cell_type": "code",
      "execution_count": null,
      "metadata": {
        "colab": {
          "base_uri": "https://localhost:8080/",
          "height": 934
        },
        "id": "keo2SZWZDlmP",
        "outputId": "6eb6c00d-2221-4b91-8254-5d943d574309"
      },
      "outputs": [
        {
          "name": "stderr",
          "output_type": "stream",
          "text": [
            "/usr/local/lib/python3.8/dist-packages/past/types/oldstr.py:5: DeprecationWarning: Using or importing the ABCs from 'collections' instead of from 'collections.abc' is deprecated since Python 3.3, and in 3.10 it will stop working\n",
            "  from collections import Iterable\n",
            "/usr/local/lib/python3.8/dist-packages/past/builtins/misc.py:4: DeprecationWarning: Using or importing the ABCs from 'collections' instead of from 'collections.abc' is deprecated since Python 3.3, and in 3.10 it will stop working\n",
            "  from collections import Mapping\n"
          ]
        },
        {
          "data": {
            "text/html": [
              "\n",
              "<link rel=\"stylesheet\" type=\"text/css\" href=\"https://cdn.jsdelivr.net/gh/bmabey/pyLDAvis@3.3.1/pyLDAvis/js/ldavis.v1.0.0.css\">\n",
              "\n",
              "\n",
              "<div id=\"ldavis_el1071402727902325288484599330\"></div>\n",
              "<script type=\"text/javascript\">\n",
              "\n",
              "var ldavis_el1071402727902325288484599330_data = {\"mdsDat\": {\"x\": [0.11415533976213327, -0.11415533976213327], \"y\": [0.0, 0.0], \"topics\": [1, 2], \"cluster\": [1, 1], \"Freq\": [51.27211313037855, 48.72788686962145]}, \"tinfo\": {\"Term\": [\"\\uc2a4\\ud1a0\\ub9ac\", \"\\ub4dc\\ub77c\\ub9c8\", \"\\uc4f0\\ub808\\uae30\", \"\\uc8fc\\uc778\\uacf5\", \"\\ub9c8\\uc9c0\\ub9c9\", \"\\uc774\\uc57c\\uae30\", \"\\uc774\\uc601\\ud654\", \"\\ucf54\\ubbf8\\ub514\", \"\\uc2dc\\ub9ac\\uc988\", \"\\uc5f0\\uae30\\ub825\", \"\\uce90\\uc2a4\\ud305\", \"\\uc2a4\\ub9b4\\ub7ec\", \"\\ucd5c\\uace0\\ub2e4\", \"\\ud3ec\\uc2a4\\ud130\", \"\\uae34\\uc7a5\\uac10\", \"\\uce90\\ub9ad\\ud130\", \"\\uacf5\\ud3ec\\uc601\\ud654\", \"\\ud55c\\uad6d\\uc601\", \"\\uc6b0\\ub9ac\\ub098\\ub77c\", \"\\uc601\\ud654\\uad00\", \"\\ub85c\\ub9e8\\uc2a4\", \"\\uac08\\uc218\\ub85d\", \"\\ud55c\\ub9c8\\ub514\", \"\\uc81c\\ub300\\ub85c\", \"\\uc601\\ud654\\uc778\", \"\\ubab0\\uc785\\ub3c4\", \"\\uc2dc\\ub098\\ub9ac\\uc624\", \"\\ub3c4\\ub300\\uccb4\", \"\\ud0ac\\ub9c1\\ud0c0\\uc784\", \"\\ubb34\\uc870\\uac74\", \"\\uc2a4\\ud1a0\\ub9ac\", \"\\uc4f0\\ub808\\uae30\", \"\\ub4dc\\ub77c\\ub9c8\", \"\\uc8fc\\uc778\\uacf5\", \"\\uc774\\uc601\\ud654\", \"\\ucd5c\\uace0\\ub2e4\", \"\\ud55c\\uad6d\\uc601\", \"\\uc6b0\\ub9ac\\ub098\\ub77c\", \"\\ub85c\\ub9e8\\uc2a4\", \"\\ud55c\\ub9c8\\ub514\", \"\\uc81c\\ub300\\ub85c\", \"\\ub3c4\\ub300\\uccb4\", \"\\uadf8\\ub300\\ub85c\", \"\\uce90\\ub9ad\\ud130\", \"\\ud765\\ubbf8\\uc9c4\\uc9c4\", \"\\ucc28\\ub77c\\ub9ac\", \"\\uc5ec\\ubc30\\uc6b0\", \"\\ub124\\uc774\\ubc84\", \"\\ud504\\ub791\\uc2a4\", \"\\uadf8\\ub798\\ud53d\", \"\\ubc1c\\uc5f0\\uae30\", \"\\uc5b4\\ub9b0\\uc774\", \"\\uc544\\uc26c\\uc6c0\", \"\\uc561\\uc158\\uc601\\ud654\", \"\\ucf00\\uc774\\ube14\", \"\\ub290\\uc640\\ub974\", \"\\uc904\\uac70\\ub9ac\", \"\\ud004\\ub9ac\\ud2f0\", \"\\ud310\\ud0c0\\uc9c0\", \"\\ub4f1\\uc7a5\\uc778\\ubb3c\", \"\\uac11\\uc790\\uae30\", \"\\ub9c8\\uc9c0\\ub9c9\", \"\\uc774\\uc57c\\uae30\", \"\\ucf54\\ubbf8\\ub514\", \"\\uc2dc\\ub9ac\\uc988\", \"\\uc5f0\\uae30\\ub825\", \"\\uce90\\uc2a4\\ud305\", \"\\uc2a4\\ub9b4\\ub7ec\", \"\\ud3ec\\uc2a4\\ud130\", \"\\uae34\\uc7a5\\uac10\", \"\\uacf5\\ud3ec\\uc601\\ud654\", \"\\uc601\\ud654\\uad00\", \"\\uac08\\uc218\\ub85d\", \"\\uc601\\ud654\\uc778\", \"\\ubab0\\uc785\\ub3c4\", \"\\ubb34\\uc870\\uac74\", \"\\ud0ac\\ub9c1\\ud0c0\\uc784\", \"\\uadf9\\uc7a5\\ud310\", \"\\uc2dc\\uccad\\ub960\", \"\\uc9c0\\ub8e8\\ud568\", \"\\uc2dc\\ub098\\ub9ac\\uc624\", \"\\uc560\\ub2c8\\uba54\\uc774\\uc158\", \"\\ud654\\uc774\\ud305\", \"\\uc544\\uc800\\uc528\", \"\\ube44\\ub514\\uc624\", \"\\uc5bc\\ub9c8\\ub098\", \"\\uc601\\ud654\\ub85c\", \"\\ubd84\\uc704\\uae30\", \"\\uc544\\ubc84\\uc9c0\", \"\\ub300\\ud55c\\ubbfc\\uad6d\", \"\\uacac\\uc790\\ub2e8\", \"\\ud3c9\\ub860\\uac00\", \"\\uccad\\uc18c\\ub144\"], \"Freq\": [63.0, 60.0, 41.0, 37.0, 33.0, 29.0, 23.0, 15.0, 13.0, 13.0, 12.0, 11.0, 12.0, 11.0, 10.0, 13.0, 10.0, 11.0, 11.0, 9.0, 10.0, 9.0, 10.0, 9.0, 8.0, 8.0, 9.0, 9.0, 8.0, 7.0, 62.808409103334995, 41.405163007092206, 59.942845072841955, 36.69529593313529, 23.334501612852918, 12.105600458335555, 10.993421480085795, 11.090112870941448, 10.29400639352289, 10.210506173712249, 9.562364978220552, 8.977732357751174, 7.852544486830882, 12.432647649732347, 7.002890327504555, 7.7084351933954665, 6.814881146386021, 6.528484614386388, 6.369361529520035, 6.317869247067, 5.8806106333814565, 5.208923974041648, 5.108524771871281, 5.0406724615986525, 5.330905548156519, 4.861477925949263, 4.265851003882467, 4.299653555185856, 4.034588647678271, 3.7467912502010794, 3.8314315179738285, 33.23581927076388, 29.33935239677152, 14.793500364785464, 13.314920123624738, 13.216852743233247, 11.865443005129793, 11.64152367245977, 10.698901561284874, 10.55707588942808, 10.296336836548647, 9.650599843759466, 9.396723849736754, 8.649244077658578, 8.598974444870942, 7.5397805150199435, 7.843875519278107, 6.658311326269636, 7.624454932872579, 6.616753151557546, 8.587148020126534, 5.847593672785382, 5.727735685857182, 5.932820263904754, 5.702870323010303, 6.114687329150979, 5.476071161155929, 6.732854211909048, 4.280783564194996, 3.5178237742153566, 3.5630303509880625, 4.014949616539083, 3.6325667225370917], \"Total\": [63.0, 60.0, 41.0, 37.0, 33.0, 29.0, 23.0, 15.0, 13.0, 13.0, 12.0, 11.0, 12.0, 11.0, 10.0, 13.0, 10.0, 11.0, 11.0, 9.0, 10.0, 9.0, 10.0, 9.0, 8.0, 8.0, 9.0, 9.0, 8.0, 7.0, 63.15537550848876, 41.73721524410363, 60.4502179262435, 37.04963095079906, 23.66900980286487, 12.452152503953123, 11.313205317242728, 11.439285999132373, 10.624958327749464, 10.55798533414969, 9.902002525256034, 9.33710552258436, 8.202227867575925, 13.000215165420242, 7.329883369927377, 8.08337697233873, 7.157481902982871, 6.857208438484105, 6.6922656159573215, 6.653723885457493, 6.212894230355589, 5.527013820894085, 5.440355335587247, 5.378273283063308, 5.714427233933091, 5.215860449180227, 4.585137195709967, 4.628538490043775, 4.363250804781132, 4.110250900184757, 4.257642412573179, 33.60488670858307, 29.712007796942817, 15.146776617413906, 13.653416825403262, 13.569887404251501, 12.200679995707855, 11.990415550134509, 11.034627852182512, 10.896394065182674, 10.640688974725524, 9.989254402148797, 9.730566206189238, 8.981859990687987, 8.937350420784254, 7.859113660929769, 8.184660911765919, 6.98220152624649, 8.003478369285025, 6.947928579688052, 9.024402884601882, 6.176923962909379, 6.052606987463455, 6.269723098159511, 6.027188604282442, 6.467602225274446, 5.793336539379939, 7.272698804161174, 4.62686785903407, 3.832138920379114, 3.8825545085525355, 4.42138529215566, 3.9748379315123574], \"Category\": [\"Default\", \"Default\", \"Default\", \"Default\", \"Default\", \"Default\", \"Default\", \"Default\", \"Default\", \"Default\", \"Default\", \"Default\", \"Default\", \"Default\", \"Default\", \"Default\", \"Default\", \"Default\", \"Default\", \"Default\", \"Default\", \"Default\", \"Default\", \"Default\", \"Default\", \"Default\", \"Default\", \"Default\", \"Default\", \"Default\", \"Topic1\", \"Topic1\", \"Topic1\", \"Topic1\", \"Topic1\", \"Topic1\", \"Topic1\", \"Topic1\", \"Topic1\", \"Topic1\", \"Topic1\", \"Topic1\", \"Topic1\", \"Topic1\", \"Topic1\", \"Topic1\", \"Topic1\", \"Topic1\", \"Topic1\", \"Topic1\", \"Topic1\", \"Topic1\", \"Topic1\", \"Topic1\", \"Topic1\", \"Topic1\", \"Topic1\", \"Topic1\", \"Topic1\", \"Topic1\", \"Topic1\", \"Topic2\", \"Topic2\", \"Topic2\", \"Topic2\", \"Topic2\", \"Topic2\", \"Topic2\", \"Topic2\", \"Topic2\", \"Topic2\", \"Topic2\", \"Topic2\", \"Topic2\", \"Topic2\", \"Topic2\", \"Topic2\", \"Topic2\", \"Topic2\", \"Topic2\", \"Topic2\", \"Topic2\", \"Topic2\", \"Topic2\", \"Topic2\", \"Topic2\", \"Topic2\", \"Topic2\", \"Topic2\", \"Topic2\", \"Topic2\", \"Topic2\", \"Topic2\"], \"logprob\": [30.0, 29.0, 28.0, 27.0, 26.0, 25.0, 24.0, 23.0, 22.0, 21.0, 20.0, 19.0, 18.0, 17.0, 16.0, 15.0, 14.0, 13.0, 12.0, 11.0, 10.0, 9.0, 8.0, 7.0, 6.0, 5.0, 4.0, 3.0, 2.0, 1.0, -3.3063, -3.723, -3.353, -3.8437, -4.2965, -4.9527, -5.0491, -5.0403, -5.1148, -5.123, -5.1886, -5.2516, -5.3856, -4.9261, -5.5001, -5.4041, -5.5273, -5.5702, -5.5949, -5.603, -5.6747, -5.796, -5.8155, -5.8289, -5.7729, -5.865, -5.9957, -5.9879, -6.0515, -6.1255, -6.1032, -3.8919, -4.0166, -4.7013, -4.8066, -4.814, -4.9219, -4.9409, -5.0254, -5.0387, -5.0637, -5.1285, -5.1551, -5.238, -5.2439, -5.3753, -5.3358, -5.4996, -5.3641, -5.5059, -5.2452, -5.6295, -5.6502, -5.615, -5.6545, -5.5848, -5.6951, -5.4885, -5.9414, -6.1377, -6.1249, -6.0055, -6.1056], \"loglift\": [30.0, 29.0, 28.0, 27.0, 26.0, 25.0, 24.0, 23.0, 22.0, 21.0, 20.0, 19.0, 18.0, 17.0, 16.0, 15.0, 14.0, 13.0, 12.0, 11.0, 10.0, 9.0, 8.0, 7.0, 6.0, 5.0, 4.0, 3.0, 2.0, 1.0, 0.6625, 0.66, 0.6596, 0.6584, 0.6538, 0.6398, 0.6393, 0.637, 0.6364, 0.6346, 0.6331, 0.6288, 0.6245, 0.6234, 0.6224, 0.6205, 0.619, 0.6189, 0.6186, 0.6162, 0.6131, 0.6087, 0.6051, 0.6032, 0.5986, 0.5977, 0.5958, 0.5943, 0.5897, 0.5754, 0.5625, 0.7079, 0.7063, 0.6953, 0.6938, 0.6926, 0.6911, 0.6894, 0.688, 0.6873, 0.686, 0.6844, 0.684, 0.6812, 0.6803, 0.6774, 0.6764, 0.6714, 0.6704, 0.6701, 0.6693, 0.6641, 0.6637, 0.6637, 0.6636, 0.6628, 0.6626, 0.6418, 0.6412, 0.6333, 0.633, 0.6225, 0.6289]}, \"token.table\": {\"Topic\": [2, 1, 2, 2, 1, 1, 2, 2, 1, 1, 2, 1, 1, 2, 1, 1, 2, 2, 2, 1, 1, 2, 2, 2, 1, 2, 2, 2, 1, 2, 1, 2, 2, 1, 1, 2, 1, 2, 2, 2, 2, 1, 2, 1, 1, 1, 1, 2, 1, 2, 1, 1, 2, 2, 1, 2, 1, 2, 1, 2, 2, 1, 1, 1, 2, 1], \"Freq\": [0.9249204834838334, 0.9394870711048117, 1.030249540911468, 0.9397887696701471, 0.9753447635397514, 0.9017506742523108, 1.0025491206013755, 1.0095082771600907, 1.020823570232242, 0.958614604189774, 1.043803495413021, 0.9638961429996717, 0.9925522530490656, 0.01654253755081776, 0.973176600927257, 0.9411801619854597, 0.9820000372615876, 1.0070098604470126, 1.017926492114578, 0.9657334854800185, 0.1375005382359347, 0.9625037676515428, 0.9954890072191994, 1.0007993425937087, 0.9975397896499265, 0.997295900358846, 0.9521426150128568, 0.9995653928049116, 0.9823367409686543, 0.8645157203246909, 0.919057615096071, 0.9569800621276738, 0.9713572703870477, 0.9296664071990305, 0.9046476383138785, 0.9277008373447698, 0.977997582792736, 0.958003527422567, 1.0010757157059582, 0.8630605120232062, 1.002019627263264, 0.9615984774604209, 0.9760363620725733, 0.9717347785802221, 1.0098967329582087, 0.9986604198334669, 0.8723839286079719, 1.0074945244060476, 0.9896853786945672, 1.0063303382228892, 0.9636888077133989, 0.9230616453117829, 0.0769218037759819, 0.9835517368065999, 0.8749783303406649, 0.9903097126787254, 0.8642036808388234, 0.9774381719955608, 0.9167476679582361, 0.9046938313873542, 0.9968618921592663, 0.8965573610367984, 0.9723150682357578, 0.9471503969280113, 0.9913083754533513, 0.9549947313922069], \"Term\": [\"\\uac08\\uc218\\ub85d\", \"\\uac11\\uc790\\uae30\", \"\\uacac\\uc790\\ub2e8\", \"\\uacf5\\ud3ec\\uc601\\ud654\", \"\\uadf8\\ub300\\ub85c\", \"\\uadf8\\ub798\\ud53d\", \"\\uadf9\\uc7a5\\ud310\", \"\\uae34\\uc7a5\\uac10\", \"\\ub124\\uc774\\ubc84\", \"\\ub290\\uc640\\ub974\", \"\\ub300\\ud55c\\ubbfc\\uad6d\", \"\\ub3c4\\ub300\\uccb4\", \"\\ub4dc\\ub77c\\ub9c8\", \"\\ub4dc\\ub77c\\ub9c8\", \"\\ub4f1\\uc7a5\\uc778\\ubb3c\", \"\\ub85c\\ub9e8\\uc2a4\", \"\\ub9c8\\uc9c0\\ub9c9\", \"\\ubab0\\uc785\\ub3c4\", \"\\ubb34\\uc870\\uac74\", \"\\ubc1c\\uc5f0\\uae30\", \"\\ubd84\\uc704\\uae30\", \"\\ubd84\\uc704\\uae30\", \"\\ube44\\ub514\\uc624\", \"\\uc2a4\\ub9b4\\ub7ec\", \"\\uc2a4\\ud1a0\\ub9ac\", \"\\uc2dc\\ub098\\ub9ac\\uc624\", \"\\uc2dc\\ub9ac\\uc988\", \"\\uc2dc\\uccad\\ub960\", \"\\uc4f0\\ub808\\uae30\", \"\\uc544\\ubc84\\uc9c0\", \"\\uc544\\uc26c\\uc6c0\", \"\\uc544\\uc800\\uc528\", \"\\uc560\\ub2c8\\uba54\\uc774\\uc158\", \"\\uc561\\uc158\\uc601\\ud654\", \"\\uc5b4\\ub9b0\\uc774\", \"\\uc5bc\\ub9c8\\ub098\", \"\\uc5ec\\ubc30\\uc6b0\", \"\\uc5f0\\uae30\\ub825\", \"\\uc601\\ud654\\uad00\", \"\\uc601\\ud654\\ub85c\", \"\\uc601\\ud654\\uc778\", \"\\uc6b0\\ub9ac\\ub098\\ub77c\", \"\\uc774\\uc57c\\uae30\", \"\\uc774\\uc601\\ud654\", \"\\uc81c\\ub300\\ub85c\", \"\\uc8fc\\uc778\\uacf5\", \"\\uc904\\uac70\\ub9ac\", \"\\uc9c0\\ub8e8\\ud568\", \"\\ucc28\\ub77c\\ub9ac\", \"\\uccad\\uc18c\\ub144\", \"\\ucd5c\\uace0\\ub2e4\", \"\\uce90\\ub9ad\\ud130\", \"\\uce90\\ub9ad\\ud130\", \"\\uce90\\uc2a4\\ud305\", \"\\ucf00\\uc774\\ube14\", \"\\ucf54\\ubbf8\\ub514\", \"\\ud004\\ub9ac\\ud2f0\", \"\\ud0ac\\ub9c1\\ud0c0\\uc784\", \"\\ud310\\ud0c0\\uc9c0\", \"\\ud3c9\\ub860\\uac00\", \"\\ud3ec\\uc2a4\\ud130\", \"\\ud504\\ub791\\uc2a4\", \"\\ud55c\\uad6d\\uc601\", \"\\ud55c\\ub9c8\\ub514\", \"\\ud654\\uc774\\ud305\", \"\\ud765\\ubbf8\\uc9c4\\uc9c4\"]}, \"R\": 30, \"lambda.step\": 0.01, \"plot.opts\": {\"xlab\": \"PC1\", \"ylab\": \"PC2\"}, \"topic.order\": [1, 2]};\n",
              "\n",
              "function LDAvis_load_lib(url, callback){\n",
              "  var s = document.createElement('script');\n",
              "  s.src = url;\n",
              "  s.async = true;\n",
              "  s.onreadystatechange = s.onload = callback;\n",
              "  s.onerror = function(){console.warn(\"failed to load library \" + url);};\n",
              "  document.getElementsByTagName(\"head\")[0].appendChild(s);\n",
              "}\n",
              "\n",
              "if(typeof(LDAvis) !== \"undefined\"){\n",
              "   // already loaded: just create the visualization\n",
              "   !function(LDAvis){\n",
              "       new LDAvis(\"#\" + \"ldavis_el1071402727902325288484599330\", ldavis_el1071402727902325288484599330_data);\n",
              "   }(LDAvis);\n",
              "}else if(typeof define === \"function\" && define.amd){\n",
              "   // require.js is available: use it to load d3/LDAvis\n",
              "   require.config({paths: {d3: \"https://d3js.org/d3.v5\"}});\n",
              "   require([\"d3\"], function(d3){\n",
              "      window.d3 = d3;\n",
              "      LDAvis_load_lib(\"https://cdn.jsdelivr.net/gh/bmabey/pyLDAvis@3.3.1/pyLDAvis/js/ldavis.v3.0.0.js\", function(){\n",
              "        new LDAvis(\"#\" + \"ldavis_el1071402727902325288484599330\", ldavis_el1071402727902325288484599330_data);\n",
              "      });\n",
              "    });\n",
              "}else{\n",
              "    // require.js not available: dynamically load d3 & LDAvis\n",
              "    LDAvis_load_lib(\"https://d3js.org/d3.v5.js\", function(){\n",
              "         LDAvis_load_lib(\"https://cdn.jsdelivr.net/gh/bmabey/pyLDAvis@3.3.1/pyLDAvis/js/ldavis.v3.0.0.js\", function(){\n",
              "                 new LDAvis(\"#\" + \"ldavis_el1071402727902325288484599330\", ldavis_el1071402727902325288484599330_data);\n",
              "            })\n",
              "         });\n",
              "}\n",
              "</script>"
            ],
            "text/plain": [
              "<IPython.core.display.HTML object>"
            ]
          },
          "execution_count": 22,
          "metadata": {},
          "output_type": "execute_result"
        }
      ],
      "source": [
        "import pyLDAvis.sklearn\n",
        "pyLDAvis.enable_notebook()\n",
        "visualization = pyLDAvis.sklearn.prepare(lda, review_tfid, tfid)\n",
        "pyLDAvis.display(visualization)"
      ]
    },
    {
      "cell_type": "code",
      "execution_count": null,
      "metadata": {
        "colab": {
          "base_uri": "https://localhost:8080/"
        },
        "id": "6WcZOxVfDx_y",
        "outputId": "86210949-fc76-4fc2-c5c0-e705d87a02f7"
      },
      "outputs": [
        {
          "name": "stdout",
          "output_type": "stream",
          "text": [
            "(5000,)\n",
            "[0 1 0 0 1]\n"
          ]
        }
      ],
      "source": [
        "labels = data['label'].iloc[:5000].values\n",
        "print(labels.shape)\n",
        "print(labels[:5])"
      ]
    },
    {
      "cell_type": "code",
      "execution_count": null,
      "metadata": {
        "colab": {
          "base_uri": "https://localhost:8080/"
        },
        "id": "y-sebidBD01Z",
        "outputId": "ad50c8c8-302d-4ea1-f49c-a0be893d896d"
      },
      "outputs": [
        {
          "data": {
            "text/plain": [
              "LogisticRegression()"
            ]
          },
          "execution_count": 24,
          "metadata": {},
          "output_type": "execute_result"
        }
      ],
      "source": [
        "# 사이킷런 패키지 활용\n",
        "from sklearn.linear_model import LogisticRegression\n",
        "\n",
        "# 로지스틱 분류 모델링 객체를 생성\n",
        "lr = LogisticRegression()\n",
        "\n",
        "# TF-IDF 벡터를 입력하여 모델 학습\n",
        "lr.fit(review_tfid, labels)"
      ]
    },
    {
      "cell_type": "code",
      "execution_count": null,
      "metadata": {
        "colab": {
          "base_uri": "https://localhost:8080/"
        },
        "id": "onQ87JMED2lL",
        "outputId": "77245b9f-aa09-4e3a-b04e-fe32f6a885d3"
      },
      "outputs": [
        {
          "name": "stdout",
          "output_type": "stream",
          "text": [
            "[0]\n"
          ]
        }
      ],
      "source": [
        "pred = lr.predict(review_tfid[0])\n",
        "print(pred)"
      ]
    },
    {
      "cell_type": "code",
      "execution_count": null,
      "metadata": {
        "colab": {
          "base_uri": "https://localhost:8080/",
          "height": 424
        },
        "id": "qFcGo-rBD43n",
        "outputId": "17c2cfa1-47ae-45e5-b426-18d008791ace"
      },
      "outputs": [
        {
          "data": {
            "text/html": [
              "\n",
              "  <div id=\"df-d7efdea0-f31c-4d41-bc3e-a4267b9da08b\">\n",
              "    <div class=\"colab-df-container\">\n",
              "      <div>\n",
              "<style scoped>\n",
              "    .dataframe tbody tr th:only-of-type {\n",
              "        vertical-align: middle;\n",
              "    }\n",
              "\n",
              "    .dataframe tbody tr th {\n",
              "        vertical-align: top;\n",
              "    }\n",
              "\n",
              "    .dataframe thead th {\n",
              "        text-align: right;\n",
              "    }\n",
              "</style>\n",
              "<table border=\"1\" class=\"dataframe\">\n",
              "  <thead>\n",
              "    <tr style=\"text-align: right;\">\n",
              "      <th></th>\n",
              "      <th>id</th>\n",
              "      <th>document</th>\n",
              "      <th>label</th>\n",
              "    </tr>\n",
              "  </thead>\n",
              "  <tbody>\n",
              "    <tr>\n",
              "      <th>0</th>\n",
              "      <td>9976970</td>\n",
              "      <td>아 더빙.. 진짜 짜증나네요 목소리</td>\n",
              "      <td>0</td>\n",
              "    </tr>\n",
              "    <tr>\n",
              "      <th>1</th>\n",
              "      <td>3819312</td>\n",
              "      <td>흠...포스터보고 초딩영화줄....오버연기조차 가볍지 않구나</td>\n",
              "      <td>1</td>\n",
              "    </tr>\n",
              "    <tr>\n",
              "      <th>2</th>\n",
              "      <td>10265843</td>\n",
              "      <td>너무재밓었다그래서보는것을추천한다</td>\n",
              "      <td>0</td>\n",
              "    </tr>\n",
              "    <tr>\n",
              "      <th>3</th>\n",
              "      <td>9045019</td>\n",
              "      <td>교도소 이야기구먼 ..솔직히 재미는 없다..평점 조정</td>\n",
              "      <td>0</td>\n",
              "    </tr>\n",
              "    <tr>\n",
              "      <th>4</th>\n",
              "      <td>6483659</td>\n",
              "      <td>사이몬페그의 익살스런 연기가 돋보였던 영화!스파이더맨에서 늙어보이기만 했던 커스틴 ...</td>\n",
              "      <td>1</td>\n",
              "    </tr>\n",
              "    <tr>\n",
              "      <th>...</th>\n",
              "      <td>...</td>\n",
              "      <td>...</td>\n",
              "      <td>...</td>\n",
              "    </tr>\n",
              "    <tr>\n",
              "      <th>149995</th>\n",
              "      <td>6222902</td>\n",
              "      <td>인간이 문제지.. 소는 뭔죄인가..</td>\n",
              "      <td>0</td>\n",
              "    </tr>\n",
              "    <tr>\n",
              "      <th>149996</th>\n",
              "      <td>8549745</td>\n",
              "      <td>평점이 너무 낮아서...</td>\n",
              "      <td>1</td>\n",
              "    </tr>\n",
              "    <tr>\n",
              "      <th>149997</th>\n",
              "      <td>9311800</td>\n",
              "      <td>이게 뭐요? 한국인은 거들먹거리고 필리핀 혼혈은 착하다?</td>\n",
              "      <td>0</td>\n",
              "    </tr>\n",
              "    <tr>\n",
              "      <th>149998</th>\n",
              "      <td>2376369</td>\n",
              "      <td>청춘 영화의 최고봉.방황과 우울했던 날들의 자화상</td>\n",
              "      <td>1</td>\n",
              "    </tr>\n",
              "    <tr>\n",
              "      <th>149999</th>\n",
              "      <td>9619869</td>\n",
              "      <td>한국 영화 최초로 수간하는 내용이 담긴 영화</td>\n",
              "      <td>0</td>\n",
              "    </tr>\n",
              "  </tbody>\n",
              "</table>\n",
              "<p>150000 rows × 3 columns</p>\n",
              "</div>\n",
              "      <button class=\"colab-df-convert\" onclick=\"convertToInteractive('df-d7efdea0-f31c-4d41-bc3e-a4267b9da08b')\"\n",
              "              title=\"Convert this dataframe to an interactive table.\"\n",
              "              style=\"display:none;\">\n",
              "        \n",
              "  <svg xmlns=\"http://www.w3.org/2000/svg\" height=\"24px\"viewBox=\"0 0 24 24\"\n",
              "       width=\"24px\">\n",
              "    <path d=\"M0 0h24v24H0V0z\" fill=\"none\"/>\n",
              "    <path d=\"M18.56 5.44l.94 2.06.94-2.06 2.06-.94-2.06-.94-.94-2.06-.94 2.06-2.06.94zm-11 1L8.5 8.5l.94-2.06 2.06-.94-2.06-.94L8.5 2.5l-.94 2.06-2.06.94zm10 10l.94 2.06.94-2.06 2.06-.94-2.06-.94-.94-2.06-.94 2.06-2.06.94z\"/><path d=\"M17.41 7.96l-1.37-1.37c-.4-.4-.92-.59-1.43-.59-.52 0-1.04.2-1.43.59L10.3 9.45l-7.72 7.72c-.78.78-.78 2.05 0 2.83L4 21.41c.39.39.9.59 1.41.59.51 0 1.02-.2 1.41-.59l7.78-7.78 2.81-2.81c.8-.78.8-2.07 0-2.86zM5.41 20L4 18.59l7.72-7.72 1.47 1.35L5.41 20z\"/>\n",
              "  </svg>\n",
              "      </button>\n",
              "      \n",
              "  <style>\n",
              "    .colab-df-container {\n",
              "      display:flex;\n",
              "      flex-wrap:wrap;\n",
              "      gap: 12px;\n",
              "    }\n",
              "\n",
              "    .colab-df-convert {\n",
              "      background-color: #E8F0FE;\n",
              "      border: none;\n",
              "      border-radius: 50%;\n",
              "      cursor: pointer;\n",
              "      display: none;\n",
              "      fill: #1967D2;\n",
              "      height: 32px;\n",
              "      padding: 0 0 0 0;\n",
              "      width: 32px;\n",
              "    }\n",
              "\n",
              "    .colab-df-convert:hover {\n",
              "      background-color: #E2EBFA;\n",
              "      box-shadow: 0px 1px 2px rgba(60, 64, 67, 0.3), 0px 1px 3px 1px rgba(60, 64, 67, 0.15);\n",
              "      fill: #174EA6;\n",
              "    }\n",
              "\n",
              "    [theme=dark] .colab-df-convert {\n",
              "      background-color: #3B4455;\n",
              "      fill: #D2E3FC;\n",
              "    }\n",
              "\n",
              "    [theme=dark] .colab-df-convert:hover {\n",
              "      background-color: #434B5C;\n",
              "      box-shadow: 0px 1px 3px 1px rgba(0, 0, 0, 0.15);\n",
              "      filter: drop-shadow(0px 1px 2px rgba(0, 0, 0, 0.3));\n",
              "      fill: #FFFFFF;\n",
              "    }\n",
              "  </style>\n",
              "\n",
              "      <script>\n",
              "        const buttonEl =\n",
              "          document.querySelector('#df-d7efdea0-f31c-4d41-bc3e-a4267b9da08b button.colab-df-convert');\n",
              "        buttonEl.style.display =\n",
              "          google.colab.kernel.accessAllowed ? 'block' : 'none';\n",
              "\n",
              "        async function convertToInteractive(key) {\n",
              "          const element = document.querySelector('#df-d7efdea0-f31c-4d41-bc3e-a4267b9da08b');\n",
              "          const dataTable =\n",
              "            await google.colab.kernel.invokeFunction('convertToInteractive',\n",
              "                                                     [key], {});\n",
              "          if (!dataTable) return;\n",
              "\n",
              "          const docLinkHtml = 'Like what you see? Visit the ' +\n",
              "            '<a target=\"_blank\" href=https://colab.research.google.com/notebooks/data_table.ipynb>data table notebook</a>'\n",
              "            + ' to learn more about interactive tables.';\n",
              "          element.innerHTML = '';\n",
              "          dataTable['output_type'] = 'display_data';\n",
              "          await google.colab.output.renderOutput(dataTable, element);\n",
              "          const docLink = document.createElement('div');\n",
              "          docLink.innerHTML = docLinkHtml;\n",
              "          element.appendChild(docLink);\n",
              "        }\n",
              "      </script>\n",
              "    </div>\n",
              "  </div>\n",
              "  "
            ],
            "text/plain": [
              "              id                                           document  label\n",
              "0        9976970                                아 더빙.. 진짜 짜증나네요 목소리      0\n",
              "1        3819312                  흠...포스터보고 초딩영화줄....오버연기조차 가볍지 않구나      1\n",
              "2       10265843                                  너무재밓었다그래서보는것을추천한다      0\n",
              "3        9045019                      교도소 이야기구먼 ..솔직히 재미는 없다..평점 조정      0\n",
              "4        6483659  사이몬페그의 익살스런 연기가 돋보였던 영화!스파이더맨에서 늙어보이기만 했던 커스틴 ...      1\n",
              "...          ...                                                ...    ...\n",
              "149995   6222902                                인간이 문제지.. 소는 뭔죄인가..      0\n",
              "149996   8549745                                      평점이 너무 낮아서...      1\n",
              "149997   9311800                    이게 뭐요? 한국인은 거들먹거리고 필리핀 혼혈은 착하다?      0\n",
              "149998   2376369                        청춘 영화의 최고봉.방황과 우울했던 날들의 자화상      1\n",
              "149999   9619869                           한국 영화 최초로 수간하는 내용이 담긴 영화      0\n",
              "\n",
              "[150000 rows x 3 columns]"
            ]
          },
          "execution_count": 28,
          "metadata": {},
          "output_type": "execute_result"
        }
      ],
      "source": [
        "data"
      ]
    },
    {
      "cell_type": "code",
      "execution_count": null,
      "metadata": {
        "colab": {
          "base_uri": "https://localhost:8080/",
          "height": 35
        },
        "id": "X_FQMRSIEbMW",
        "outputId": "c7def80e-6ed3-4ffb-f131-e783bc285ff7"
      },
      "outputs": [
        {
          "data": {
            "application/vnd.google.colaboratory.intrinsic+json": {
              "type": "string"
            },
            "text/plain": [
              "'아 더빙.. 진짜 짜증나네요 목소리'"
            ]
          },
          "execution_count": 29,
          "metadata": {},
          "output_type": "execute_result"
        }
      ],
      "source": [
        "test_sample = data['document'][0]\n",
        "test_sample"
      ]
    },
    {
      "cell_type": "code",
      "execution_count": null,
      "metadata": {
        "colab": {
          "base_uri": "https://localhost:8080/",
          "height": 35
        },
        "id": "3HwMfMn9EibQ",
        "outputId": "65010dc8-6672-4837-fa52-e94b09b70da6"
      },
      "outputs": [
        {
          "data": {
            "application/vnd.google.colaboratory.intrinsic+json": {
              "type": "string"
            },
            "text/plain": [
              "'아더빙진짜짜증나네요목소리'"
            ]
          },
          "execution_count": 30,
          "metadata": {},
          "output_type": "execute_result"
        }
      ],
      "source": [
        "test_sample = re.sub(r\"[^가-힣]\", \"\", test_sample)\n",
        "test_sample"
      ]
    },
    {
      "cell_type": "code",
      "execution_count": null,
      "metadata": {
        "colab": {
          "base_uri": "https://localhost:8080/",
          "height": 35
        },
        "id": "FDZLeWZsErvi",
        "outputId": "c4958933-28c4-4542-d842-c652f02d65a2"
      },
      "outputs": [
        {
          "data": {
            "application/vnd.google.colaboratory.intrinsic+json": {
              "type": "string"
            },
            "text/plain": [
              "'목소리'"
            ]
          },
          "execution_count": 31,
          "metadata": {},
          "output_type": "execute_result"
        }
      ],
      "source": [
        "tokens = okt.nouns(test_sample)\n",
        "cleaned_tokens = []\n",
        "for word in tokens:\n",
        "    if len(word) > 2:\n",
        "        cleaned_tokens.append(word)\n",
        "    else:\n",
        "        pass\n",
        "cleaned_review = \" \".join(cleaned_tokens)\n",
        "\n",
        "cleaned_review"
      ]
    },
    {
      "cell_type": "code",
      "execution_count": null,
      "metadata": {
        "colab": {
          "base_uri": "https://localhost:8080/"
        },
        "id": "H_7oAX7hEwpf",
        "outputId": "cb9a9f3d-cbe0-454d-c438-7c1478736f79"
      },
      "outputs": [
        {
          "name": "stdout",
          "output_type": "stream",
          "text": [
            "  (0, 574)\t1.0\n"
          ]
        }
      ],
      "source": [
        "test_review_tfid = tfid.transform([cleaned_review])\n",
        "\n",
        "# 배열을 출력\n",
        "print(test_review_tfid)"
      ]
    },
    {
      "cell_type": "code",
      "execution_count": null,
      "metadata": {
        "colab": {
          "base_uri": "https://localhost:8080/"
        },
        "id": "whg69uHGE1tK",
        "outputId": "cd77868f-4743-4c7d-e407-a80f4cf60496"
      },
      "outputs": [
        {
          "name": "stdout",
          "output_type": "stream",
          "text": [
            "분석 결과 부정적인 리뷰로 예측됩니다. \n"
          ]
        }
      ],
      "source": [
        "test_pred = lr.predict(test_review_tfid)[0]\n",
        "print(\"분석 결과 {}적인 리뷰로 예측됩니다. \".format(\"긍정\" if test_pred > 0 else \"부정\"))"
      ]
    }
  ],
  "metadata": {
    "colab": {
      "provenance": []
    },
    "kernelspec": {
      "display_name": "Python 3",
      "name": "python3"
    },
    "language_info": {
      "name": "python"
    }
  },
  "nbformat": 4,
  "nbformat_minor": 0
}
