{
 "cells": [
  {
   "cell_type": "code",
   "execution_count": 1,
   "metadata": {},
   "outputs": [],
   "source": [
    "from konlpy.tag import Okt"
   ]
  },
  {
   "cell_type": "code",
   "execution_count": 2,
   "metadata": {},
   "outputs": [
    {
     "ename": "JVMNotFoundException",
     "evalue": "No JVM shared library file (jvm.dll) found. Try setting up the JAVA_HOME environment variable properly.",
     "output_type": "error",
     "traceback": [
      "\u001b[1;31m---------------------------------------------------------------------------\u001b[0m",
      "\u001b[1;31mJVMNotFoundException\u001b[0m                      Traceback (most recent call last)",
      "\u001b[1;32mc:\\Users\\user\\source\\repos\\BigData_TeamProject\\BigData_TeamProject\\konlpy_형태소_분석.ipynb Cell 2\u001b[0m line \u001b[0;36m1\n\u001b[1;32m----> <a href='vscode-notebook-cell:/c%3A/Users/user/source/repos/BigData_TeamProject/BigData_TeamProject/konlpy_%ED%98%95%ED%83%9C%EC%86%8C_%EB%B6%84%EC%84%9D.ipynb#W1sZmlsZQ%3D%3D?line=0'>1</a>\u001b[0m okt \u001b[39m=\u001b[39m Okt()\n",
      "File \u001b[1;32mc:\\Users\\user\\anaconda3\\Lib\\site-packages\\konlpy\\tag\\_okt.py:51\u001b[0m, in \u001b[0;36mOkt.__init__\u001b[1;34m(self, jvmpath, max_heap_size)\u001b[0m\n\u001b[0;32m     49\u001b[0m \u001b[39mdef\u001b[39;00m \u001b[39m__init__\u001b[39m(\u001b[39mself\u001b[39m, jvmpath\u001b[39m=\u001b[39m\u001b[39mNone\u001b[39;00m, max_heap_size\u001b[39m=\u001b[39m\u001b[39m1024\u001b[39m):\n\u001b[0;32m     50\u001b[0m     \u001b[39mif\u001b[39;00m \u001b[39mnot\u001b[39;00m jpype\u001b[39m.\u001b[39misJVMStarted():\n\u001b[1;32m---> 51\u001b[0m         jvm\u001b[39m.\u001b[39minit_jvm(jvmpath, max_heap_size)\n\u001b[0;32m     53\u001b[0m     oktJavaPackage \u001b[39m=\u001b[39m jpype\u001b[39m.\u001b[39mJPackage(\u001b[39m'\u001b[39m\u001b[39mkr.lucypark.okt\u001b[39m\u001b[39m'\u001b[39m)\n\u001b[0;32m     54\u001b[0m     OktInterfaceJavaClass \u001b[39m=\u001b[39m oktJavaPackage\u001b[39m.\u001b[39mOktInterface\n",
      "File \u001b[1;32mc:\\Users\\user\\anaconda3\\Lib\\site-packages\\konlpy\\jvm.py:55\u001b[0m, in \u001b[0;36minit_jvm\u001b[1;34m(jvmpath, max_heap_size)\u001b[0m\n\u001b[0;32m     52\u001b[0m args \u001b[39m=\u001b[39m [javadir, os\u001b[39m.\u001b[39msep]\n\u001b[0;32m     53\u001b[0m classpath \u001b[39m=\u001b[39m [f\u001b[39m.\u001b[39mformat(\u001b[39m*\u001b[39margs) \u001b[39mfor\u001b[39;00m f \u001b[39min\u001b[39;00m folder_suffix]\n\u001b[1;32m---> 55\u001b[0m jvmpath \u001b[39m=\u001b[39m jvmpath \u001b[39mor\u001b[39;00m jpype\u001b[39m.\u001b[39mgetDefaultJVMPath()\n\u001b[0;32m     57\u001b[0m \u001b[39m# NOTE: Temporary patch for Issue #76. Erase when possible.\u001b[39;00m\n\u001b[0;32m     58\u001b[0m \u001b[39mif\u001b[39;00m sys\u001b[39m.\u001b[39mplatform \u001b[39m==\u001b[39m \u001b[39m'\u001b[39m\u001b[39mdarwin\u001b[39m\u001b[39m'\u001b[39m\\\n\u001b[0;32m     59\u001b[0m         \u001b[39mand\u001b[39;00m jvmpath\u001b[39m.\u001b[39mfind(\u001b[39m'\u001b[39m\u001b[39m1.8.0\u001b[39m\u001b[39m'\u001b[39m) \u001b[39m>\u001b[39m \u001b[39m0\u001b[39m\\\n\u001b[0;32m     60\u001b[0m         \u001b[39mand\u001b[39;00m jvmpath\u001b[39m.\u001b[39mendswith(\u001b[39m'\u001b[39m\u001b[39mlibjvm.dylib\u001b[39m\u001b[39m'\u001b[39m):\n",
      "File \u001b[1;32mc:\\Users\\user\\anaconda3\\Lib\\site-packages\\jpype\\_jvmfinder.py:74\u001b[0m, in \u001b[0;36mgetDefaultJVMPath\u001b[1;34m()\u001b[0m\n\u001b[0;32m     72\u001b[0m \u001b[39melse\u001b[39;00m:\n\u001b[0;32m     73\u001b[0m     finder \u001b[39m=\u001b[39m LinuxJVMFinder()\n\u001b[1;32m---> 74\u001b[0m \u001b[39mreturn\u001b[39;00m finder\u001b[39m.\u001b[39mget_jvm_path()\n",
      "File \u001b[1;32mc:\\Users\\user\\anaconda3\\Lib\\site-packages\\jpype\\_jvmfinder.py:212\u001b[0m, in \u001b[0;36mJVMFinder.get_jvm_path\u001b[1;34m(self)\u001b[0m\n\u001b[0;32m    210\u001b[0m \u001b[39mif\u001b[39;00m jvm_notsupport_ext \u001b[39mis\u001b[39;00m \u001b[39mnot\u001b[39;00m \u001b[39mNone\u001b[39;00m:\n\u001b[0;32m    211\u001b[0m     \u001b[39mraise\u001b[39;00m jvm_notsupport_ext\n\u001b[1;32m--> 212\u001b[0m \u001b[39mraise\u001b[39;00m JVMNotFoundException(\u001b[39m\"\u001b[39m\u001b[39mNo JVM shared library file (\u001b[39m\u001b[39m{0}\u001b[39;00m\u001b[39m) \u001b[39m\u001b[39m\"\u001b[39m\n\u001b[0;32m    213\u001b[0m                            \u001b[39m\"\u001b[39m\u001b[39mfound. Try setting up the JAVA_HOME \u001b[39m\u001b[39m\"\u001b[39m\n\u001b[0;32m    214\u001b[0m                            \u001b[39m\"\u001b[39m\u001b[39menvironment variable properly.\u001b[39m\u001b[39m\"\u001b[39m\n\u001b[0;32m    215\u001b[0m                            \u001b[39m.\u001b[39mformat(\u001b[39mself\u001b[39m\u001b[39m.\u001b[39m_libfile))\n",
      "\u001b[1;31mJVMNotFoundException\u001b[0m: No JVM shared library file (jvm.dll) found. Try setting up the JAVA_HOME environment variable properly."
     ]
    }
   ],
   "source": [
    "okt = Okt()\n"
   ]
  },
  {
   "cell_type": "code",
   "execution_count": null,
   "metadata": {},
   "outputs": [],
   "source": []
  }
 ],
 "metadata": {
  "kernelspec": {
   "display_name": "base",
   "language": "python",
   "name": "python3"
  },
  "language_info": {
   "codemirror_mode": {
    "name": "ipython",
    "version": 3
   },
   "file_extension": ".py",
   "mimetype": "text/x-python",
   "name": "python",
   "nbconvert_exporter": "python",
   "pygments_lexer": "ipython3",
   "version": "3.11.4"
  }
 },
 "nbformat": 4,
 "nbformat_minor": 2
}
