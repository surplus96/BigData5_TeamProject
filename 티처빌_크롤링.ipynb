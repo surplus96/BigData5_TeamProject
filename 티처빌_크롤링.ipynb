{
 "cells": [
  {
   "cell_type": "code",
   "execution_count": 1,
   "id": "03e96b73",
   "metadata": {},
   "outputs": [],
   "source": [
    "import pandas as pd\n",
    "import numpy as np\n",
    "from bs4 import BeautifulSoup\n",
    "from selenium import webdriver\n",
    "from selenium.webdriver.common.by import By # 웹사이트의 구성요소를 선택하기 위해 By 모듈을 불려옵니다\n",
    "from selenium.webdriver.support.ui import WebDriverWait # 웹페이지가 전부 로드될때까지 기다리는 (Explicitly wait) 기능을 하는 모듈입니다\n",
    "from webdriver_manager.chrome import ChromeDriverManager # 크롬에서 크롤링을 하기 위해, 웹 드라이버를 설치하는 모듈입니다\n",
    "from selenium.webdriver.chrome.service import Service as ChromeService\n",
    "from selenium.webdriver.support import expected_conditions as EC # 크롬의 어떤 부분의 상태를 확인하는 모듈입니다\n",
    "import time # 정해진 시간만큼 기다리게 하기 위한 패키지입니다\n",
    "from selenium.webdriver.common.keys import Keys"
   ]
  },
  {
   "cell_type": "code",
   "execution_count": 2,
   "id": "d179e0ad",
   "metadata": {},
   "outputs": [],
   "source": [
    "Tearchervile_url= \"https://www.teacherville.co.kr/trainguide/review/reviewList.edu\""
   ]
  },
  {
   "cell_type": "code",
   "execution_count": 3,
   "id": "e51117c9",
   "metadata": {},
   "outputs": [],
   "source": [
    "driver = webdriver.Chrome()\n",
    "driver.get(Tearchervile_url)"
   ]
  },
  {
   "cell_type": "code",
   "execution_count": 4,
   "id": "931b5a3b",
   "metadata": {},
   "outputs": [],
   "source": [
    "try:\n",
    "    element = WebDriverWait(driver, 10).until(\n",
    "        EC.presence_of_element_located((By.XPATH, '//*[@id=\"wrap\"]'))\n",
    "    )\n",
    "finally:\n",
    "    pass"
   ]
  },
  {
   "cell_type": "code",
   "execution_count": 5,
   "id": "59a73c9f",
   "metadata": {},
   "outputs": [
    {
     "name": "stdout",
     "output_type": "stream",
     "text": [
      "2 2\n",
      "3 3\n",
      "4 4\n",
      "5 5\n",
      "6 6\n",
      "7 7\n",
      "8 8\n",
      "9 9\n",
      "10 10\n",
      "11 11\n",
      "12 12\n",
      "13 13\n",
      "14 14\n"
     ]
    },
    {
     "ename": "NoSuchElementException",
     "evalue": "Message: no such element: Unable to locate element: {\"method\":\"xpath\",\"selector\":\"//*[@id=\"divPaging\"]/a[14]\"}\n  (Session info: chrome=118.0.5993.89); For documentation on this error, please visit: https://www.selenium.dev/documentation/webdriver/troubleshooting/errors#no-such-element-exception\nStacktrace:\n\tGetHandleVerifier [0x00007FF6E9AE8EF2+54786]\n\t(No symbol) [0x00007FF6E9A55612]\n\t(No symbol) [0x00007FF6E990A64B]\n\t(No symbol) [0x00007FF6E994B79C]\n\t(No symbol) [0x00007FF6E994B91C]\n\t(No symbol) [0x00007FF6E9986D87]\n\t(No symbol) [0x00007FF6E996BEAF]\n\t(No symbol) [0x00007FF6E9984D02]\n\t(No symbol) [0x00007FF6E996BC43]\n\t(No symbol) [0x00007FF6E9940941]\n\t(No symbol) [0x00007FF6E9941B84]\n\tGetHandleVerifier [0x00007FF6E9E37F52+3524194]\n\tGetHandleVerifier [0x00007FF6E9E8D800+3874576]\n\tGetHandleVerifier [0x00007FF6E9E85D7F+3843215]\n\tGetHandleVerifier [0x00007FF6E9B85086+694166]\n\t(No symbol) [0x00007FF6E9A60A88]\n\t(No symbol) [0x00007FF6E9A5CA94]\n\t(No symbol) [0x00007FF6E9A5CBC2]\n\t(No symbol) [0x00007FF6E9A4CC83]\n\tBaseThreadInitThunk [0x00007FFD60B5257D+29]\n\tRtlUserThreadStart [0x00007FFD61C8AA78+40]\n",
     "output_type": "error",
     "traceback": [
      "\u001b[1;31m---------------------------------------------------------------------------\u001b[0m",
      "\u001b[1;31mNoSuchElementException\u001b[0m                    Traceback (most recent call last)",
      "Cell \u001b[1;32mIn[5], line 32\u001b[0m\n\u001b[0;32m     30\u001b[0m \u001b[38;5;66;03m# 다음 페이지로 넘어가는 코드입니다    \u001b[39;00m\n\u001b[0;32m     31\u001b[0m \u001b[38;5;28;01mif\u001b[39;00m page_count\u001b[38;5;241m+\u001b[39mnxt \u001b[38;5;241m!=\u001b[39m \u001b[38;5;241m11\u001b[39m \u001b[38;5;129;01mor\u001b[39;00m page_count\u001b[38;5;241m+\u001b[39mnxt \u001b[38;5;241m!=\u001b[39m \u001b[38;5;241m12\u001b[39m:\n\u001b[1;32m---> 32\u001b[0m     driver\u001b[38;5;241m.\u001b[39mfind_element(By\u001b[38;5;241m.\u001b[39mXPATH, \u001b[38;5;124mf\u001b[39m\u001b[38;5;124m'\u001b[39m\u001b[38;5;124m//*[@id=\u001b[39m\u001b[38;5;124m\"\u001b[39m\u001b[38;5;124mdivPaging\u001b[39m\u001b[38;5;124m\"\u001b[39m\u001b[38;5;124m]/a[\u001b[39m\u001b[38;5;132;01m{\u001b[39;00mpage_count\u001b[38;5;241m+\u001b[39mnxt\u001b[38;5;132;01m}\u001b[39;00m\u001b[38;5;124m]\u001b[39m\u001b[38;5;124m'\u001b[39m)\u001b[38;5;241m.\u001b[39msend_keys(Keys\u001b[38;5;241m.\u001b[39mENTER)\n\u001b[0;32m     34\u001b[0m \u001b[38;5;28;01melse\u001b[39;00m:\n\u001b[0;32m     35\u001b[0m     \u001b[38;5;28;01mif\u001b[39;00m brk \u001b[38;5;241m==\u001b[39m \u001b[38;5;241m10\u001b[39m:\n",
      "File \u001b[1;32m~\\anaconda3\\Lib\\site-packages\\selenium\\webdriver\\remote\\webdriver.py:738\u001b[0m, in \u001b[0;36mWebDriver.find_element\u001b[1;34m(self, by, value)\u001b[0m\n\u001b[0;32m    735\u001b[0m     by \u001b[38;5;241m=\u001b[39m By\u001b[38;5;241m.\u001b[39mCSS_SELECTOR\n\u001b[0;32m    736\u001b[0m     value \u001b[38;5;241m=\u001b[39m \u001b[38;5;124mf\u001b[39m\u001b[38;5;124m'\u001b[39m\u001b[38;5;124m[name=\u001b[39m\u001b[38;5;124m\"\u001b[39m\u001b[38;5;132;01m{\u001b[39;00mvalue\u001b[38;5;132;01m}\u001b[39;00m\u001b[38;5;124m\"\u001b[39m\u001b[38;5;124m]\u001b[39m\u001b[38;5;124m'\u001b[39m\n\u001b[1;32m--> 738\u001b[0m \u001b[38;5;28;01mreturn\u001b[39;00m \u001b[38;5;28mself\u001b[39m\u001b[38;5;241m.\u001b[39mexecute(Command\u001b[38;5;241m.\u001b[39mFIND_ELEMENT, {\u001b[38;5;124m\"\u001b[39m\u001b[38;5;124musing\u001b[39m\u001b[38;5;124m\"\u001b[39m: by, \u001b[38;5;124m\"\u001b[39m\u001b[38;5;124mvalue\u001b[39m\u001b[38;5;124m\"\u001b[39m: value})[\u001b[38;5;124m\"\u001b[39m\u001b[38;5;124mvalue\u001b[39m\u001b[38;5;124m\"\u001b[39m]\n",
      "File \u001b[1;32m~\\anaconda3\\Lib\\site-packages\\selenium\\webdriver\\remote\\webdriver.py:344\u001b[0m, in \u001b[0;36mWebDriver.execute\u001b[1;34m(self, driver_command, params)\u001b[0m\n\u001b[0;32m    342\u001b[0m response \u001b[38;5;241m=\u001b[39m \u001b[38;5;28mself\u001b[39m\u001b[38;5;241m.\u001b[39mcommand_executor\u001b[38;5;241m.\u001b[39mexecute(driver_command, params)\n\u001b[0;32m    343\u001b[0m \u001b[38;5;28;01mif\u001b[39;00m response:\n\u001b[1;32m--> 344\u001b[0m     \u001b[38;5;28mself\u001b[39m\u001b[38;5;241m.\u001b[39merror_handler\u001b[38;5;241m.\u001b[39mcheck_response(response)\n\u001b[0;32m    345\u001b[0m     response[\u001b[38;5;124m\"\u001b[39m\u001b[38;5;124mvalue\u001b[39m\u001b[38;5;124m\"\u001b[39m] \u001b[38;5;241m=\u001b[39m \u001b[38;5;28mself\u001b[39m\u001b[38;5;241m.\u001b[39m_unwrap_value(response\u001b[38;5;241m.\u001b[39mget(\u001b[38;5;124m\"\u001b[39m\u001b[38;5;124mvalue\u001b[39m\u001b[38;5;124m\"\u001b[39m, \u001b[38;5;28;01mNone\u001b[39;00m))\n\u001b[0;32m    346\u001b[0m     \u001b[38;5;28;01mreturn\u001b[39;00m response\n",
      "File \u001b[1;32m~\\anaconda3\\Lib\\site-packages\\selenium\\webdriver\\remote\\errorhandler.py:229\u001b[0m, in \u001b[0;36mErrorHandler.check_response\u001b[1;34m(self, response)\u001b[0m\n\u001b[0;32m    227\u001b[0m         alert_text \u001b[38;5;241m=\u001b[39m value[\u001b[38;5;124m\"\u001b[39m\u001b[38;5;124malert\u001b[39m\u001b[38;5;124m\"\u001b[39m]\u001b[38;5;241m.\u001b[39mget(\u001b[38;5;124m\"\u001b[39m\u001b[38;5;124mtext\u001b[39m\u001b[38;5;124m\"\u001b[39m)\n\u001b[0;32m    228\u001b[0m     \u001b[38;5;28;01mraise\u001b[39;00m exception_class(message, screen, stacktrace, alert_text)  \u001b[38;5;66;03m# type: ignore[call-arg]  # mypy is not smart enough here\u001b[39;00m\n\u001b[1;32m--> 229\u001b[0m \u001b[38;5;28;01mraise\u001b[39;00m exception_class(message, screen, stacktrace)\n",
      "\u001b[1;31mNoSuchElementException\u001b[0m: Message: no such element: Unable to locate element: {\"method\":\"xpath\",\"selector\":\"//*[@id=\"divPaging\"]/a[14]\"}\n  (Session info: chrome=118.0.5993.89); For documentation on this error, please visit: https://www.selenium.dev/documentation/webdriver/troubleshooting/errors#no-such-element-exception\nStacktrace:\n\tGetHandleVerifier [0x00007FF6E9AE8EF2+54786]\n\t(No symbol) [0x00007FF6E9A55612]\n\t(No symbol) [0x00007FF6E990A64B]\n\t(No symbol) [0x00007FF6E994B79C]\n\t(No symbol) [0x00007FF6E994B91C]\n\t(No symbol) [0x00007FF6E9986D87]\n\t(No symbol) [0x00007FF6E996BEAF]\n\t(No symbol) [0x00007FF6E9984D02]\n\t(No symbol) [0x00007FF6E996BC43]\n\t(No symbol) [0x00007FF6E9940941]\n\t(No symbol) [0x00007FF6E9941B84]\n\tGetHandleVerifier [0x00007FF6E9E37F52+3524194]\n\tGetHandleVerifier [0x00007FF6E9E8D800+3874576]\n\tGetHandleVerifier [0x00007FF6E9E85D7F+3843215]\n\tGetHandleVerifier [0x00007FF6E9B85086+694166]\n\t(No symbol) [0x00007FF6E9A60A88]\n\t(No symbol) [0x00007FF6E9A5CA94]\n\t(No symbol) [0x00007FF6E9A5CBC2]\n\t(No symbol) [0x00007FF6E9A4CC83]\n\tBaseThreadInitThunk [0x00007FFD60B5257D+29]\n\tRtlUserThreadStart [0x00007FFD61C8AA78+40]\n"
     ]
    }
   ],
   "source": [
    "fnm = '' # 맨 첫번째 상호 이름입니다. 다음 페이지에서도 똑같은 상호가 나온다면, 다음 페이지가 없다고 인식하고, brk 값이 바뀌면서 반복문이 종료되지요\n",
    "brk = 1\n",
    "nxt = 0\n",
    "res = [] # 결과 파일은 판다스 데이터프레임으로 입력할겁니다\n",
    "page_count = 1\n",
    "\n",
    "\n",
    "while True:\n",
    "    \n",
    "    time.sleep(1)\n",
    "    hs = driver.page_source\n",
    "    soup = BeautifulSoup( hs, 'html.parser')\n",
    "    h = soup.find('ul',{'id':'reviewResultList'})\n",
    "    \n",
    "    for i in h.find_all('li'):\n",
    "        date = i.find('span','day').text\n",
    "        hour = i.find('strong','credit').text\n",
    "        name = i.find_all('p')[1].text.split(']')[1].strip()\n",
    "        cate = i.find_all('p')[1].text.split(']')[0].split('/')[1].strip()\n",
    "        text = i.find('p','text on').text.strip()\n",
    "        star = len(i.find_all('span','star on'))\n",
    "        res.append([hour,name,text,star,cate,date])\n",
    "\n",
    "    page_count += 1\n",
    "    brk += 1\n",
    "    print(page_count, brk)\n",
    "    \n",
    "    time.sleep(0.5)\n",
    "    \n",
    "    # 다음 페이지로 넘어가는 코드입니다    \n",
    "    if page_count+nxt != 11 or page_count+nxt != 12:\n",
    "        driver.find_element(By.XPATH, f'//*[@id=\"divPaging\"]/a[{page_count+nxt}]').send_keys(Keys.ENTER)\n",
    "\n",
    "    else:\n",
    "        if brk == 10:\n",
    "            driver.find_element(By.XPATH, '//*[@id=\"divPaging\"]/a[10]').send_keys(Keys.ENTER)\n",
    "            page_count = 1\n",
    "            nxt += 2\n",
    "   \n",
    "        else:\n",
    "            driver.find_element(By.XPATH, '//*[@id=\"divPaging\"]/a[12]').send_keys(Keys.ENTER)\n",
    "            page_count = 1\n",
    "            print('tttttt')\n",
    "    time.sleep(2)\n",
    "\n",
    "    if brk == 25:\n",
    "        driver.quit()\n",
    "        break\n",
    "\n",
    "\n",
    "            \n",
    "\n",
    "\n",
    "\n"
   ]
  },
  {
   "cell_type": "code",
   "execution_count": null,
   "id": "9fe3d038",
   "metadata": {},
   "outputs": [],
   "source": [
    "df = pd.DataFrame(res)\n",
    "df.to_csv('./res_Tsherpa.csv', index=False) # 데이터가 실시간으로 저장되도록 합니다\n",
    "df"
   ]
  },
  {
   "cell_type": "code",
   "execution_count": null,
   "id": "580bd920",
   "metadata": {},
   "outputs": [],
   "source": []
  },
  {
   "cell_type": "code",
   "execution_count": null,
   "id": "33904217",
   "metadata": {},
   "outputs": [],
   "source": []
  },
  {
   "cell_type": "code",
   "execution_count": null,
   "id": "7aae762c",
   "metadata": {},
   "outputs": [],
   "source": []
  },
  {
   "cell_type": "code",
   "execution_count": null,
   "id": "6db24e4e",
   "metadata": {},
   "outputs": [],
   "source": []
  },
  {
   "cell_type": "code",
   "execution_count": null,
   "id": "fca67a8f",
   "metadata": {},
   "outputs": [],
   "source": []
  },
  {
   "cell_type": "code",
   "execution_count": null,
   "id": "2f1956e6",
   "metadata": {},
   "outputs": [],
   "source": []
  }
 ],
 "metadata": {
  "kernelspec": {
   "display_name": "Python 3 (ipykernel)",
   "language": "python",
   "name": "python3"
  },
  "language_info": {
   "codemirror_mode": {
    "name": "ipython",
    "version": 3
   },
   "file_extension": ".py",
   "mimetype": "text/x-python",
   "name": "python",
   "nbconvert_exporter": "python",
   "pygments_lexer": "ipython3",
   "version": "3.11.4"
  }
 },
 "nbformat": 4,
 "nbformat_minor": 5
}
