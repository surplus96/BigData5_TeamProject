{
 "cells": [
  {
   "cell_type": "code",
   "execution_count": 7,
   "id": "ace34cbc",
   "metadata": {},
   "outputs": [],
   "source": [
    "import pandas as pd\n",
    "import numpy as np\n",
    "from bs4 import BeautifulSoup\n",
    "from selenium import webdriver\n",
    "from selenium.webdriver.common.by import By # 웹사이트의 구성요소를 선택하기 위해 By 모듈을 불려옵니다\n",
    "from selenium.webdriver.support.ui import WebDriverWait # 웹페이지가 전부 로드될때까지 기다리는 (Explicitly wait) 기능을 하는 모듈입니다\n",
    "from webdriver_manager.chrome import ChromeDriverManager # 크롬에서 크롤링을 하기 위해, 웹 드라이버를 설치하는 모듈입니다\n",
    "from selenium.webdriver.chrome.service import Service as ChromeService\n",
    "from selenium.webdriver.support import expected_conditions as EC # 크롬의 어떤 부분의 상태를 확인하는 모듈입니다\n",
    "import time # 정해진 시간만큼 기다리게 하기 위한 패키지입니다\n",
    "from selenium.webdriver.common.keys import Keys"
   ]
  },
  {
   "cell_type": "code",
   "execution_count": 8,
   "id": "74a2595e",
   "metadata": {},
   "outputs": [],
   "source": [
    "Tsherpa_url= \"https://edu.tsherpa.co.kr/LectureInfo/LectureReviews2\"\n"
   ]
  },
  {
   "cell_type": "code",
   "execution_count": 9,
   "id": "afd8f675",
   "metadata": {},
   "outputs": [],
   "source": [
    "driver = webdriver.Chrome()\n",
    "driver.get(Tsherpa_url)"
   ]
  },
  {
   "cell_type": "code",
   "execution_count": 10,
   "id": "0d3664bb",
   "metadata": {},
   "outputs": [],
   "source": [
    "try:\n",
    "    element = WebDriverWait(driver, 10).until(\n",
    "        EC.presence_of_element_located((By.XPATH, '//*[@id=\"mainForm\"]'))\n",
    "    )\n",
    "finally:\n",
    "    pass"
   ]
  },
  {
   "cell_type": "code",
   "execution_count": 11,
   "id": "76c81627",
   "metadata": {},
   "outputs": [
    {
     "name": "stdout",
     "output_type": "stream",
     "text": [
      "stop\n",
      "1\n"
     ]
    }
   ],
   "source": [
    "fnm = '' # 맨 첫번째 상호 이름입니다. 다음 페이지에서도 똑같은 상호가 나온다면, 다음 페이지가 없다고 인식하고, brk 값이 바뀌면서 반복문이 종료되지요\n",
    "brk = 0\n",
    "nxt = 2\n",
    "res = [] # 결과 파일은 판다스 데이터프레임으로 입력할겁니다\n",
    "page_count = 0\n",
    "stop_code = True\n",
    "\n",
    "while True:\n",
    "    \n",
    "    page_count += 1\n",
    "    brk += 1\n",
    "\n",
    "    for i in range(1,11):\n",
    "        \n",
    "        time.sleep(0.5)\n",
    "        hour = driver.find_element(by='xpath',value = f'//*[@id=\"mainForm\"]/table/tbody/tr[{i}]/td[2]/a/span').text\n",
    "        \n",
    "        if driver.find_element(By.XPATH, f'//*[@id=\"mainForm\"]/table/tbody/tr[{i}]/td[2]/a').is_displayed():\n",
    "            driver.find_element(By.XPATH, f'//*[@id=\"mainForm\"]/table/tbody/tr[{i}]/td[2]/a').send_keys(Keys.ENTER)\n",
    "            time.sleep(1)\n",
    "            driver.switch_to.window(driver.window_handles[-1])\n",
    "\n",
    "            nm = driver.find_elements(By.XPATH, '//*[@id=\"mainForm\"]/div[1]/span/a')\n",
    "            yr = driver.find_elements(By.XPATH, '//*[@id=\"mainForm\"]/div[2]/table/tbody/tr[2]/td/span[2]')\n",
    "            scp = driver.find_elements(By.XPATH, '//*[@id=\"mainForm\"]/div[2]/table/tbody/tr[2]/td/span[1]')\n",
    "            desc = driver.find_elements(By.XPATH, '//*[@id=\"mainForm\"]/div[2]/table/tbody/tr[3]/td')\n",
    "\n",
    "        year = yr[0].text.split('|')[1].strip()\n",
    "        year = year.split('.')[0].strip()\n",
    "\n",
    "      \n",
    "        if int(year) <= 2017:\n",
    "            print('stop')\n",
    "            stop_code = False\n",
    "            break\n",
    "\n",
    "        res.append([nm[0].text, hour, yr[0].text.split('|')[1].strip(), scp[0].text, desc[0].text])\n",
    "\n",
    "        driver.close()\n",
    "        driver.switch_to.window(driver.window_handles[0])\n",
    "\n",
    "    if stop_code != True:\n",
    "        print(brk)\n",
    "        driver.quit()\n",
    "        break\n",
    "\n",
    "\n",
    "    # 다음 페이지로 넘어가는 코드입니다    \n",
    "    if page_count != 11:\n",
    "        driver.find_element(By.XPATH, f'//*[@id=\"mainForm\"]/div[3]/a[{page_count+nxt}]').send_keys(Keys.ENTER)\n",
    "\n",
    "    else:\n",
    "       driver.find_element(By.XPATH, f'//*[@id=\"mainForm\"]/div[3]/a[12]').send_keys(Keys.ENTER)\n",
    "       page_count = 0\n",
    "\n",
    "    time.sleep(2.5)\n",
    "\n",
    "\n",
    "\n",
    "            \n",
    "\n",
    "\n",
    "\n"
   ]
  },
  {
   "cell_type": "code",
   "execution_count": 12,
   "id": "772970ad",
   "metadata": {},
   "outputs": [
    {
     "data": {
      "text/html": [
       "<div>\n",
       "<style scoped>\n",
       "    .dataframe tbody tr th:only-of-type {\n",
       "        vertical-align: middle;\n",
       "    }\n",
       "\n",
       "    .dataframe tbody tr th {\n",
       "        vertical-align: top;\n",
       "    }\n",
       "\n",
       "    .dataframe thead th {\n",
       "        text-align: right;\n",
       "    }\n",
       "</style>\n",
       "<table border=\"1\" class=\"dataframe\">\n",
       "  <thead>\n",
       "    <tr style=\"text-align: right;\">\n",
       "      <th></th>\n",
       "    </tr>\n",
       "  </thead>\n",
       "  <tbody>\n",
       "  </tbody>\n",
       "</table>\n",
       "</div>"
      ],
      "text/plain": [
       "Empty DataFrame\n",
       "Columns: []\n",
       "Index: []"
      ]
     },
     "execution_count": 12,
     "metadata": {},
     "output_type": "execute_result"
    }
   ],
   "source": [
    "df = pd.DataFrame(res)\n",
    "df.to_csv('./res_Tsherpa.csv', index=False) # 데이터가 실시간으로 저장되도록 합니다\n",
    "df"
   ]
  },
  {
   "cell_type": "code",
   "execution_count": null,
   "id": "5de50bd0",
   "metadata": {},
   "outputs": [],
   "source": []
  },
  {
   "cell_type": "code",
   "execution_count": null,
   "id": "5b09a4be",
   "metadata": {},
   "outputs": [],
   "source": []
  },
  {
   "cell_type": "code",
   "execution_count": null,
   "id": "6f7b10f8",
   "metadata": {},
   "outputs": [],
   "source": []
  },
  {
   "cell_type": "code",
   "execution_count": null,
   "id": "7f1a4e48",
   "metadata": {},
   "outputs": [],
   "source": []
  }
 ],
 "metadata": {
  "kernelspec": {
   "display_name": "Python 3 (ipykernel)",
   "language": "python",
   "name": "python3"
  },
  "language_info": {
   "codemirror_mode": {
    "name": "ipython",
    "version": 3
   },
   "file_extension": ".py",
   "mimetype": "text/x-python",
   "name": "python",
   "nbconvert_exporter": "python",
   "pygments_lexer": "ipython3",
   "version": "3.11.4"
  }
 },
 "nbformat": 4,
 "nbformat_minor": 5
}
